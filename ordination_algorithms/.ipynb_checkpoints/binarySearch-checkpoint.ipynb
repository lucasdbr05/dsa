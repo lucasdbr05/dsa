{
 "cells": [
  {
   "cell_type": "markdown",
   "id": "f5af2ee8",
   "metadata": {},
   "source": [
    "# Binary Search\n"
   ]
  },
  {
   "cell_type": "code",
   "execution_count": 6,
   "id": "c8ef1c74",
   "metadata": {},
   "outputs": [
    {
     "name": "stdout",
     "output_type": "stream",
     "text": [
      "Index : 4\n",
      "Index : None\n"
     ]
    }
   ],
   "source": [
    "#0(LOG n)\n",
    "def binary_search(arr, item, l=0, r=None):\n",
    "    if r==None:\n",
    "        r = len(arr)-1\n",
    "    if l<=r:\n",
    "        m= (l+r)//2\n",
    "        if arr[m]==item:\n",
    "            return m\n",
    "        if item < arr[m]:\n",
    "            return binary_search(arr, item, l, m-1)\n",
    "        else:\n",
    "            return binary_search(arr, item, m+1, r)\n",
    "    return None\n",
    "arr = [1,2,3,4,5,6,7,8,9,10,11,12,12,13]\n",
    "print(f\"Index : {binary_search(arr, 5)}\")\n",
    "print(f\"Index : {binary_search([], 5)}\")"
   ]
  }
 ],
 "metadata": {
  "kernelspec": {
   "display_name": "Python 3 (ipykernel)",
   "language": "python",
   "name": "python3"
  },
  "language_info": {
   "codemirror_mode": {
    "name": "ipython",
    "version": 3
   },
   "file_extension": ".py",
   "mimetype": "text/x-python",
   "name": "python",
   "nbconvert_exporter": "python",
   "pygments_lexer": "ipython3",
   "version": "3.9.7"
  }
 },
 "nbformat": 4,
 "nbformat_minor": 5
}
