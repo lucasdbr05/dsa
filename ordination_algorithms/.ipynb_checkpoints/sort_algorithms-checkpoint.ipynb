{
 "cells": [
  {
   "cell_type": "markdown",
   "id": "17fa8f3f",
   "metadata": {},
   "source": [
    "#                  =>Sorting Algorithms  \n",
    "\n"
   ]
  },
  {
   "cell_type": "code",
   "execution_count": null,
   "id": "e1f95dde",
   "metadata": {},
   "outputs": [],
   "source": [
    "import random"
   ]
  },
  {
   "cell_type": "markdown",
   "id": "4fb8f3f6",
   "metadata": {},
   "source": [
    "## Selection Sort"
   ]
  },
  {
   "cell_type": "code",
   "execution_count": null,
   "id": "f11569ce",
   "metadata": {
    "scrolled": true
   },
   "outputs": [],
   "source": [
    "#O(n^2)\n",
    "def selection_sort(arr):\n",
    "    n= len(arr)\n",
    "    for i in range(n-1):\n",
    "        for j in range(i+1, n):\n",
    "            if arr[j]<arr[i]:\n",
    "                arr[j], arr[i] = arr[i], arr[j]\n",
    "    return arr\n",
    "\n",
    "arr = [7,3,1,8,9,1,3,10,12,-14, 0, -7,7,13]\n",
    "print(arr)\n",
    "print(selection_sort(arr), \"\\n\")\n",
    "\n",
    "\n",
    "\n",
    "rand_arr = random.sample(range(1,100), 50)\n",
    "print(rand_arr)\n",
    "print(selection_sort(rand_arr))\n"
   ]
  },
  {
   "cell_type": "markdown",
   "id": "1814d5e2",
   "metadata": {},
   "source": [
    "## Bubble Sort"
   ]
  },
  {
   "cell_type": "code",
   "execution_count": 22,
   "id": "782a0eb7",
   "metadata": {
    "scrolled": true
   },
   "outputs": [
    {
     "name": "stdout",
     "output_type": "stream",
     "text": [
      "[1, 2, 4, 7, 8, 9]\n",
      "[1, 2, 5, 7, 8, 9, 20, 26, 28, 31, 32, 33, 37, 38, 40, 41, 42, 52, 63, 72, 73, 74, 75, 76, 78, 79, 81, 82, 83, 86, 89, 90, 96, 97, 98]\n"
     ]
    }
   ],
   "source": [
    "#O(n^2)\n",
    "def bubble_sort(arr):\n",
    "    n = len(arr)\n",
    "    num_changes = n\n",
    "    while num_changes:\n",
    "        num_changes = 0\n",
    "        for i in range(n-1):\n",
    "            if arr[i]>arr[i+1]:\n",
    "                arr[i], arr[i+1] = arr[i+1], arr[i]\n",
    "                num_changes+=1\n",
    "    return arr\n",
    "\n",
    "arr = [4,9,2,1,7,8]\n",
    "print(bubble_sort(arr))\n",
    "\n",
    "rand_arr = random.sample(range(1,100), 35)\n",
    "print(bubble_sort(rand_arr))         \n",
    "        "
   ]
  },
  {
   "cell_type": "markdown",
   "id": "81653ea6",
   "metadata": {},
   "source": [
    "## Insertion Sort"
   ]
  },
  {
   "cell_type": "code",
   "execution_count": 46,
   "id": "4b27cbde",
   "metadata": {},
   "outputs": [
    {
     "name": "stdout",
     "output_type": "stream",
     "text": [
      "[0, 2, 4, 4, 5, 7]\n",
      "[0, 2, 4, 4, 5, 7] \n",
      "\n",
      "[1, 5, 6, 9, 11, 16, 17, 23, 24, 34, 36, 41, 42, 49, 50, 54, 55, 56, 62, 63, 66, 69, 70, 71, 73, 77, 79, 82, 85, 86, 89, 90, 92, 94, 97]\n",
      "[1, 5, 6, 9, 11, 16, 17, 23, 24, 34, 36, 41, 42, 49, 50, 54, 55, 56, 62, 63, 66, 69, 70, 71, 73, 77, 79, 82, 85, 86, 89, 90, 92, 94, 97]\n"
     ]
    }
   ],
   "source": [
    "#O(n^2)\n",
    "def insertion_sort(arr):\n",
    "    new_list = list()\n",
    "    n = len(arr)\n",
    "    new_list.append(arr[0])\n",
    "    for i in range(1, n):\n",
    "        for j in range(len(new_list)):\n",
    "            if arr[i]<=new_list[j]:\n",
    "                new_list = new_list[:j] + [arr[i]] + new_list[j:]\n",
    "                break\n",
    "            elif j == len(new_list)-1:\n",
    "                new_list.append(arr[i])\n",
    "    return new_list\n",
    "\n",
    "\n",
    "def insertionSort(arr):\n",
    "    n = len(arr)\n",
    "    for i in range(1, n):\n",
    "        chave = arr[i]\n",
    "        j = i - 1\n",
    "        while j >= 0 and arr[j] > chave:\n",
    "            arr[j+1] = arr[j]\n",
    "            j-=1\n",
    "        #Insert the lower num in new position on the list\n",
    "        arr[j+1] = chave\n",
    "    return arr\n",
    "    \n",
    "            \n",
    "arr = [4,7,2,5,4,0]\n",
    "print(insertion_sort(arr))\n",
    "print(insertionSort(arr),\"\\n\")\n",
    "\n",
    "rand_arr = random.sample(range(1,100), 35)\n",
    "print(insertion_sort(rand_arr))   \n",
    "print(insertionSort(rand_arr))\n"
   ]
  },
  {
   "cell_type": "markdown",
   "id": "db032bb1",
   "metadata": {},
   "source": [
    "## Merge Sort"
   ]
  },
  {
   "cell_type": "code",
   "execution_count": 70,
   "id": "f0673a78",
   "metadata": {},
   "outputs": [
    {
     "name": "stdout",
     "output_type": "stream",
     "text": [
      "[244, 307, 333, 378, 807, 866, 288, 708, 309, 251, 915, 785, 985, 975, 110]\n",
      "[110, 244, 251, 288, 307, 309, 333, 378, 708, 785, 807, 866, 915, 975, 985] \n",
      "\n",
      "[2, 4, 5, 6, 7, 14, 18, 19, 24, 25, 30, 37, 38, 41, 44, 46, 48, 52, 53, 54, 55, 59, 61, 64, 65, 69, 76, 84, 85, 88, 89, 90, 93, 95, 99]\n",
      "[2, 4, 5, 6, 7, 14, 18, 19, 24, 25, 30, 37, 38, 41, 44, 46, 48, 52, 53, 54, 55, 59, 61, 64, 65, 69, 76, 84, 85, 88, 89, 90, 93, 95, 99]\n"
     ]
    }
   ],
   "source": [
    "#Stack\n",
    "def merge(lista, inicio=0, meio=None, fim=None):\n",
    "    if fim ==None:\n",
    "        fim = len(arr)\n",
    "        meio = fim//2   \n",
    "    left = lista[inicio:meio]\n",
    "    right = lista[meio:fim]\n",
    "    top_left, top_right = 0, 0\n",
    "    for k in range(inicio, fim):\n",
    "        if top_left >= len(left):\n",
    "            lista[k] = right[top_right]\n",
    "            top_right = top_right + 1\n",
    "        elif top_right >= len(right):\n",
    "            lista[k] = left[top_left]\n",
    "            top_left = top_left + 1\n",
    "        elif left[top_left] < right[top_right]:\n",
    "            lista[k] = left[top_left]\n",
    "            top_left = top_left + 1\n",
    "        else:\n",
    "            lista[k] = right[top_right]\n",
    "            top_right = top_right + 1\n",
    "    return lista\n",
    "\n",
    "\"\"\"\n",
    "#Doesn't work\n",
    "\n",
    "def merge_sort(arr):\n",
    "    if len(arr)<=1:\n",
    "        return arr\n",
    "    else:\n",
    "        meio = len(arr)//2\n",
    "        l=merge_sort(arr[:meio])\n",
    "        r= merge_sort(arr[meio:])\n",
    "        return merge(arr,0,meio, len(arr))\n",
    "\"\"\"\n",
    "            \n",
    "    \n",
    "def mergeSort(lista, inicio=0, fim=None):\n",
    "    if fim == None:\n",
    "        fim = len(lista)\n",
    "    if (fim - inicio > 1):\n",
    "        meio = (fim + inicio)//2\n",
    "        mergeSort(lista, inicio, meio)\n",
    "        mergeSort(lista, meio, fim)\n",
    "        return merge(lista, inicio, meio, fim)\n",
    "        \n",
    "arr =random.sample(range(100,1000), 15)\n",
    "print(merge(arr))\n",
    "print(mergeSort(arr),\"\\n\")\n",
    "\n",
    "rand_arr = random.sample(range(1,100), 35)\n",
    "print(mergeSort(rand_arr))  \n",
    "print(merge(rand_arr))"
   ]
  }
 ],
 "metadata": {
  "kernelspec": {
   "display_name": "Python 3 (ipykernel)",
   "language": "python",
   "name": "python3"
  },
  "language_info": {
   "codemirror_mode": {
    "name": "ipython",
    "version": 3
   },
   "file_extension": ".py",
   "mimetype": "text/x-python",
   "name": "python",
   "nbconvert_exporter": "python",
   "pygments_lexer": "ipython3",
   "version": "3.9.7"
  }
 },
 "nbformat": 4,
 "nbformat_minor": 5
}
