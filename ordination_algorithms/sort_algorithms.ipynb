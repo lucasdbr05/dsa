{
 "cells": [
  {
   "cell_type": "markdown",
   "id": "17fa8f3f",
   "metadata": {},
   "source": [
    "#                  =>Sorting Algorithms  \n",
    "\n"
   ]
  },
  {
   "cell_type": "code",
   "execution_count": 1,
   "id": "e1f95dde",
   "metadata": {},
   "outputs": [],
   "source": [
    "import random"
   ]
  },
  {
   "cell_type": "markdown",
   "id": "4fb8f3f6",
   "metadata": {},
   "source": [
    "## Selection Sort"
   ]
  },
  {
   "cell_type": "code",
   "execution_count": 2,
   "id": "f11569ce",
   "metadata": {
    "scrolled": true
   },
   "outputs": [
    {
     "name": "stdout",
     "output_type": "stream",
     "text": [
      "[7, 3, 1, 8, 9, 1, 3, 10, 12, -14, 0, -7, 7, 13]\n",
      "[-14, -7, 0, 1, 1, 3, 3, 7, 7, 8, 9, 10, 12, 13] \n",
      "\n",
      "[64, 67, 73, 7, 82, 81, 57, 58, 99, 13, 39, 4, 12, 65, 79, 10, 2, 41, 18, 15, 90, 37, 35, 63, 84, 61, 48, 22, 98, 1, 53, 95, 97, 68, 19, 91, 36, 51, 17, 32, 71, 42, 14, 75, 59, 40, 11, 87, 25, 89]\n",
      "[1, 2, 4, 7, 10, 11, 12, 13, 14, 15, 17, 18, 19, 22, 25, 32, 35, 36, 37, 39, 40, 41, 42, 48, 51, 53, 57, 58, 59, 61, 63, 64, 65, 67, 68, 71, 73, 75, 79, 81, 82, 84, 87, 89, 90, 91, 95, 97, 98, 99]\n"
     ]
    }
   ],
   "source": [
    "#O(n^2)\n",
    "def selection_sort(arr):\n",
    "    n= len(arr)\n",
    "    for i in range(n-1):\n",
    "        for j in range(i+1, n):\n",
    "            if arr[j]<arr[i]:\n",
    "                arr[j], arr[i] = arr[i], arr[j]\n",
    "    return arr\n",
    "\n",
    "arr = [7,3,1,8,9,1,3,10,12,-14, 0, -7,7,13]\n",
    "print(arr)\n",
    "print(selection_sort(arr), \"\\n\")\n",
    "\n",
    "\n",
    "\n",
    "rand_arr = random.sample(range(1,100), 50)\n",
    "print(rand_arr)\n",
    "print(selection_sort(rand_arr))\n"
   ]
  },
  {
   "cell_type": "markdown",
   "id": "1814d5e2",
   "metadata": {},
   "source": [
    "## Bubble Sort"
   ]
  },
  {
   "cell_type": "code",
   "execution_count": 3,
   "id": "782a0eb7",
   "metadata": {
    "scrolled": true
   },
   "outputs": [
    {
     "name": "stdout",
     "output_type": "stream",
     "text": [
      "[1, 2, 4, 7, 8, 9]\n",
      "[1, 3, 5, 6, 9, 21, 23, 24, 25, 26, 33, 38, 40, 41, 46, 50, 53, 55, 57, 63, 67, 68, 70, 71, 72, 78, 79, 80, 81, 84, 86, 87, 95, 98, 99]\n"
     ]
    }
   ],
   "source": [
    "#O(n^2)\n",
    "def bubble_sort(arr):\n",
    "    n = len(arr)\n",
    "    num_changes = n\n",
    "    while num_changes:\n",
    "        num_changes = 0\n",
    "        for i in range(n-1):\n",
    "            if arr[i]>arr[i+1]:\n",
    "                arr[i], arr[i+1] = arr[i+1], arr[i]\n",
    "                num_changes+=1\n",
    "    return arr\n",
    "\n",
    "arr = [4,9,2,1,7,8]\n",
    "print(bubble_sort(arr))\n",
    "\n",
    "rand_arr = random.sample(range(1,100), 35)\n",
    "print(bubble_sort(rand_arr))         \n",
    "        "
   ]
  },
  {
   "cell_type": "markdown",
   "id": "81653ea6",
   "metadata": {},
   "source": [
    "## Insertion Sort"
   ]
  },
  {
   "cell_type": "code",
   "execution_count": 4,
   "id": "4b27cbde",
   "metadata": {},
   "outputs": [
    {
     "name": "stdout",
     "output_type": "stream",
     "text": [
      "[0, 2, 4, 4, 5, 7]\n",
      "[0, 2, 4, 4, 5, 7] \n",
      "\n",
      "[8, 9, 21, 22, 24, 26, 28, 29, 30, 32, 34, 37, 38, 39, 41, 44, 45, 49, 51, 53, 54, 56, 58, 59, 60, 63, 65, 70, 74, 75, 79, 87, 93, 96, 97]\n",
      "[8, 9, 21, 22, 24, 26, 28, 29, 30, 32, 34, 37, 38, 39, 41, 44, 45, 49, 51, 53, 54, 56, 58, 59, 60, 63, 65, 70, 74, 75, 79, 87, 93, 96, 97]\n"
     ]
    }
   ],
   "source": [
    "#O(n^2)\n",
    "def insertion_sort(arr):\n",
    "    new_list = list()\n",
    "    n = len(arr)\n",
    "    new_list.append(arr[0])\n",
    "    for i in range(1, n):\n",
    "        for j in range(len(new_list)):\n",
    "            if arr[i]<=new_list[j]:\n",
    "                new_list = new_list[:j] + [arr[i]] + new_list[j:]\n",
    "                break\n",
    "            elif j == len(new_list)-1:\n",
    "                new_list.append(arr[i])\n",
    "    return new_list\n",
    "\n",
    "\n",
    "def insertionSort(arr):\n",
    "    n = len(arr)\n",
    "    for i in range(1, n):\n",
    "        chave = arr[i]\n",
    "        j = i - 1\n",
    "        while j >= 0 and arr[j] > chave:\n",
    "            arr[j+1] = arr[j]\n",
    "            j-=1\n",
    "        #Insert the lower num in new position on the list\n",
    "        arr[j+1] = chave\n",
    "    return arr\n",
    "    \n",
    "            \n",
    "arr = [4,7,2,5,4,0]\n",
    "print(insertion_sort(arr))\n",
    "print(insertionSort(arr),\"\\n\")\n",
    "\n",
    "rand_arr = random.sample(range(1,100), 35)\n",
    "print(insertion_sort(rand_arr))   \n",
    "print(insertionSort(rand_arr))\n"
   ]
  },
  {
   "cell_type": "markdown",
   "id": "db032bb1",
   "metadata": {},
   "source": [
    "## Merge Sort"
   ]
  },
  {
   "cell_type": "code",
   "execution_count": 5,
   "id": "f0673a78",
   "metadata": {},
   "outputs": [
    {
     "name": "stdout",
     "output_type": "stream",
     "text": [
      "[621, 569, 685, 833, 844, 331, 870, 878, 830, 339, 936, 381, 598, 879, 920]\n",
      "[331, 339, 381, 569, 598, 621, 685, 830, 833, 844, 870, 878, 879, 920, 936] \n",
      "\n",
      "[2, 4, 9, 11, 14, 15, 16, 17, 19, 26, 29, 31, 35, 38, 39, 40, 57, 58, 59, 61, 64, 65, 67, 71, 74, 75, 76, 79, 84, 85, 88, 89, 91, 93, 94]\n",
      "[2, 4, 9, 11, 14, 15, 16, 17, 19, 26, 29, 31, 35, 38, 39, 40, 57, 58, 59, 61, 64, 65, 67, 71, 74, 75, 76, 79, 84, 85, 88, 89, 91, 93, 94]\n"
     ]
    }
   ],
   "source": [
    "#Stack\n",
    "def merge(lista, inicio=0, meio=None, fim=None):\n",
    "    if fim ==None:\n",
    "        fim = len(arr)\n",
    "        meio = fim//2   \n",
    "    left = lista[inicio:meio]\n",
    "    right = lista[meio:fim]\n",
    "    top_left, top_right = 0, 0\n",
    "    for k in range(inicio, fim):\n",
    "        if top_left >= len(left):\n",
    "            lista[k] = right[top_right]\n",
    "            top_right = top_right + 1\n",
    "        elif top_right >= len(right):\n",
    "            lista[k] = left[top_left]\n",
    "            top_left = top_left + 1\n",
    "        elif left[top_left] < right[top_right]:\n",
    "            lista[k] = left[top_left]\n",
    "            top_left = top_left + 1\n",
    "        else:\n",
    "            lista[k] = right[top_right]\n",
    "            top_right = top_right + 1\n",
    "    return lista\n",
    "\n",
    "\"\"\"\n",
    "#Doesn't work\n",
    "\n",
    "def merge_sort(arr):\n",
    "    if len(arr)<=1:\n",
    "        return arr\n",
    "    else:\n",
    "        meio = len(arr)//2\n",
    "        l=merge_sort(arr[:meio])\n",
    "        r= merge_sort(arr[meio:])\n",
    "        return merge(arr,0,meio, len(arr))\n",
    "\"\"\"\n",
    "            \n",
    "    \n",
    "def mergeSort(lista, inicio=0, fim=None):\n",
    "    if fim == None:\n",
    "        fim = len(lista)\n",
    "    if (fim - inicio > 1):\n",
    "        meio = (fim + inicio)//2\n",
    "        mergeSort(lista, inicio, meio)\n",
    "        mergeSort(lista, meio, fim)\n",
    "        return merge(lista, inicio, meio, fim)\n",
    "        \n",
    "arr =random.sample(range(100,1000), 15)\n",
    "print(merge(arr))\n",
    "print(mergeSort(arr),\"\\n\")\n",
    "\n",
    "rand_arr = random.sample(range(1,100), 35)\n",
    "print(mergeSort(rand_arr))  \n",
    "print(merge(rand_arr))"
   ]
  },
  {
   "cell_type": "markdown",
   "id": "2c4a4a8f",
   "metadata": {},
   "source": [
    "## Quick Sort"
   ]
  },
  {
   "cell_type": "code",
   "execution_count": 6,
   "id": "57f2f8d4",
   "metadata": {},
   "outputs": [
    {
     "name": "stdout",
     "output_type": "stream",
     "text": [
      "[2, 3, 5, 10]\n",
      "[3, 4, 9, 10, 12, 13, 15, 21, 25, 27, 29, 33, 34, 36, 39, 40, 46, 49, 54, 55, 58, 59, 65, 66, 74, 75, 79, 80, 81, 89, 90, 91, 93, 94, 95]\n",
      "[3, 4, 9, 10, 12, 13, 15, 21, 25, 27, 29, 33, 34, 36, 39, 40, 46, 49, 54, 55, 58, 59, 65, 66, 74, 75, 79, 80, 81, 89, 90, 91, 93, 94, 95]\n",
      "------------------------------------------------------------------------------------------\n",
      "[130, 151, 163, 175, 222, 263, 318, 319, 420, 534, 627, 628, 648, 700, 706, 712, 781, 901, 943, 958]\n"
     ]
    }
   ],
   "source": [
    "#Quick Sort\n",
    "def quick_sort(arr, inicio=0, fim=None):\n",
    "    if fim==None:\n",
    "        fim = len(arr)-1\n",
    "    if inicio<fim:\n",
    "        p = partition(arr, inicio, fim) #Pivot\n",
    "        quick_sort(arr,inicio, p-1) #menores que o pivot\n",
    "        quick_sort(arr, p+1, fim) #maiores que o pivot\n",
    "    return arr\n",
    "    \n",
    "def partition(lista, inicio=0, fim=None):\n",
    "    if fim==None:\n",
    "        fim = len(arr)-1\n",
    "    pivot = lista[fim]\n",
    "    i=inicio\n",
    "    for j in range(inicio, fim):\n",
    "        if lista[j]<=pivot:\n",
    "            lista[i], lista[j] = lista[j], lista[i]\n",
    "            i+=1\n",
    "    lista[i], lista[fim] = lista[fim], lista[i]\n",
    "    return i\n",
    "\n",
    "\n",
    "\"Quicksort\"\n",
    "\"Sua notacao Big O depende do pivot escolhido\"\n",
    "\"No pior dos casos= O(n*n)\"\n",
    "\"No caso medio = O(n log2 (n))\"\n",
    "def quicksort(array):\n",
    "    if len(array) < 2: \n",
    "        return array   #retorna arrays vazios e com elementos menores que um\n",
    "    else:\n",
    "        pivo = array[0] #primeiro elemento do array\n",
    "        menores = [i for i in array[1:] if i <= pivo] #cria array(desordenado) com elementos menores que o pivot \n",
    "        maiores = [i for i in array[1:] if i > pivo] #cria array(desordenado) com elementos maiores que o pivot \n",
    "        \"chama a funcao recursivamente para os menores que o pivot(ordenando o subarray) + pivot + chama a funcao recursivamente para os maiores que o pivot(ordenando o subarray)\"\n",
    "        return quicksort(menores) + [pivo] + quicksort(maiores)\n",
    "\n",
    "print(quicksort([10, 5, 2, 3]))\n",
    "rand_arr = random.sample(range(1,100), 35)\n",
    "print(quicksort(rand_arr));\n",
    "print(quick_sort(rand_arr)); \n",
    "print(30*\"---\");\n",
    "rand_arr = random.sample(range(100,1000), 20)\n",
    "print(quick_sort(rand_arr));"
   ]
  }
 ],
 "metadata": {
  "kernelspec": {
   "display_name": "Python 3 (ipykernel)",
   "language": "python",
   "name": "python3"
  },
  "language_info": {
   "codemirror_mode": {
    "name": "ipython",
    "version": 3
   },
   "file_extension": ".py",
   "mimetype": "text/x-python",
   "name": "python",
   "nbconvert_exporter": "python",
   "pygments_lexer": "ipython3",
   "version": "3.11.2"
  }
 },
 "nbformat": 4,
 "nbformat_minor": 5
}
