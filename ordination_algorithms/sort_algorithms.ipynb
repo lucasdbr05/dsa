{
 "cells": [
  {
   "cell_type": "markdown",
   "id": "17fa8f3f",
   "metadata": {},
   "source": [
    "#                  =>Sorting Algorithms  \n",
    "\n"
   ]
  },
  {
   "cell_type": "code",
   "execution_count": 1,
   "id": "e1f95dde",
   "metadata": {},
   "outputs": [],
   "source": [
    "import random"
   ]
  },
  {
   "cell_type": "markdown",
   "id": "4fb8f3f6",
   "metadata": {},
   "source": [
    "## Selection Sort"
   ]
  },
  {
   "cell_type": "code",
   "execution_count": 2,
   "id": "f11569ce",
   "metadata": {
    "scrolled": true
   },
   "outputs": [
    {
     "name": "stdout",
     "output_type": "stream",
     "text": [
      "[7, 3, 1, 8, 9, 1, 3, 10, 12, -14, 0, -7, 7, 13]\n",
      "[-14, -7, 0, 1, 1, 3, 3, 7, 7, 8, 9, 10, 12, 13] \n",
      "\n",
      "[46, 32, 41, 15, 67, 26, 25, 71, 38, 35, 21, 36, 31, 45, 2, 89, 69, 22, 61, 13, 8, 9, 78, 74, 79, 17, 14, 1, 66, 52, 56, 82, 51, 27, 40, 90, 3, 50, 53, 75, 5, 48, 60, 93, 77, 58, 30, 97, 54, 57]\n",
      "[1, 2, 3, 5, 8, 9, 13, 14, 15, 17, 21, 22, 25, 26, 27, 30, 31, 32, 35, 36, 38, 40, 41, 45, 46, 48, 50, 51, 52, 53, 54, 56, 57, 58, 60, 61, 66, 67, 69, 71, 74, 75, 77, 78, 79, 82, 89, 90, 93, 97]\n"
     ]
    }
   ],
   "source": [
    "#O(n^2)\n",
    "def selection_sort(arr):\n",
    "    n= len(arr)\n",
    "    for i in range(n-1):\n",
    "        for j in range(i+1, n):\n",
    "            if arr[j]<arr[i]:\n",
    "                arr[j], arr[i] = arr[i], arr[j]\n",
    "    return arr\n",
    "\n",
    "arr = [7,3,1,8,9,1,3,10,12,-14, 0, -7,7,13]\n",
    "print(arr)\n",
    "print(selection_sort(arr), \"\\n\")\n",
    "\n",
    "\n",
    "\n",
    "rand_arr = random.sample(range(1,100), 50)\n",
    "print(rand_arr)\n",
    "print(selection_sort(rand_arr))\n"
   ]
  },
  {
   "cell_type": "markdown",
   "id": "1814d5e2",
   "metadata": {},
   "source": [
    "## Bubble Sort"
   ]
  },
  {
   "cell_type": "code",
   "execution_count": 3,
   "id": "782a0eb7",
   "metadata": {
    "scrolled": true
   },
   "outputs": [
    {
     "name": "stdout",
     "output_type": "stream",
     "text": [
      "[1, 2, 4, 7, 8, 9]\n",
      "[3, 8, 9, 11, 15, 18, 19, 20, 22, 24, 27, 29, 32, 34, 38, 40, 41, 45, 46, 49, 50, 54, 57, 62, 67, 69, 73, 76, 77, 81, 83, 90, 95, 98, 99]\n"
     ]
    }
   ],
   "source": [
    "#O(n^2)\n",
    "def bubble_sort(arr):\n",
    "    n = len(arr)\n",
    "    num_changes = n\n",
    "    while num_changes:\n",
    "        num_changes = 0\n",
    "        for i in range(n-1):\n",
    "            if arr[i]>arr[i+1]:\n",
    "                arr[i], arr[i+1] = arr[i+1], arr[i]\n",
    "                num_changes+=1\n",
    "    return arr\n",
    "\n",
    "arr = [4,9,2,1,7,8]\n",
    "print(bubble_sort(arr))\n",
    "\n",
    "rand_arr = random.sample(range(1,100), 35)\n",
    "print(bubble_sort(rand_arr))         \n",
    "        "
   ]
  },
  {
   "cell_type": "markdown",
   "id": "81653ea6",
   "metadata": {},
   "source": [
    "## Insertion Sort"
   ]
  },
  {
   "cell_type": "code",
   "execution_count": 4,
   "id": "4b27cbde",
   "metadata": {},
   "outputs": [
    {
     "name": "stdout",
     "output_type": "stream",
     "text": [
      "[0, 2, 4, 4, 5, 7]\n",
      "[0, 2, 4, 4, 5, 7] \n",
      "\n",
      "[3, 7, 8, 11, 12, 13, 15, 20, 24, 27, 28, 33, 37, 38, 40, 42, 46, 47, 48, 56, 58, 59, 67, 70, 73, 79, 80, 81, 84, 85, 90, 92, 96, 98, 99]\n",
      "[3, 7, 8, 11, 12, 13, 15, 20, 24, 27, 28, 33, 37, 38, 40, 42, 46, 47, 48, 56, 58, 59, 67, 70, 73, 79, 80, 81, 84, 85, 90, 92, 96, 98, 99]\n"
     ]
    }
   ],
   "source": [
    "#O(n^2)\n",
    "def insertion_sort(arr):\n",
    "    new_list = list()\n",
    "    n = len(arr)\n",
    "    new_list.append(arr[0])\n",
    "    for i in range(1, n):\n",
    "        for j in range(len(new_list)):\n",
    "            if arr[i]<=new_list[j]:\n",
    "                new_list = new_list[:j] + [arr[i]] + new_list[j:]\n",
    "                break\n",
    "            elif j == len(new_list)-1:\n",
    "                new_list.append(arr[i])\n",
    "    return new_list\n",
    "\n",
    "\n",
    "def insertionSort(arr):\n",
    "    n = len(arr)\n",
    "    for i in range(1, n):\n",
    "        chave = arr[i]\n",
    "        j = i - 1\n",
    "        while j >= 0 and arr[j] > chave:\n",
    "            arr[j+1] = arr[j]\n",
    "            j-=1\n",
    "        #Insert the lower num in new position on the list\n",
    "        arr[j+1] = chave\n",
    "    return arr\n",
    "    \n",
    "            \n",
    "arr = [4,7,2,5,4,0]\n",
    "print(insertion_sort(arr))\n",
    "print(insertionSort(arr),\"\\n\")\n",
    "\n",
    "rand_arr = random.sample(range(1,100), 35)\n",
    "print(insertion_sort(rand_arr))   \n",
    "print(insertionSort(rand_arr))\n"
   ]
  },
  {
   "cell_type": "markdown",
   "id": "db032bb1",
   "metadata": {},
   "source": [
    "## Merge Sort"
   ]
  },
  {
   "cell_type": "code",
   "execution_count": 5,
   "id": "f0673a78",
   "metadata": {},
   "outputs": [
    {
     "name": "stdout",
     "output_type": "stream",
     "text": [
      "[261, 431, 320, 565, 750, 436, 787, 872, 944, 387, 709, 684, 886, 981, 190]\n",
      "[190, 261, 320, 387, 431, 436, 565, 684, 709, 750, 787, 872, 886, 944, 981] \n",
      "\n",
      "[1, 3, 4, 6, 7, 9, 11, 15, 16, 22, 23, 25, 31, 32, 33, 34, 35, 38, 39, 40, 44, 46, 52, 57, 58, 63, 71, 72, 76, 77, 80, 84, 86, 88, 93]\n",
      "[1, 3, 4, 6, 7, 9, 11, 15, 16, 22, 23, 25, 31, 32, 33, 34, 35, 38, 39, 40, 44, 46, 52, 57, 58, 63, 71, 72, 76, 77, 80, 84, 86, 88, 93]\n"
     ]
    }
   ],
   "source": [
    "#Stack\n",
    "def merge(lista, inicio=0, meio=None, fim=None):\n",
    "    if fim ==None:\n",
    "        fim = len(arr)\n",
    "        meio = fim//2   \n",
    "    left = lista[inicio:meio]\n",
    "    right = lista[meio:fim]\n",
    "    top_left, top_right = 0, 0\n",
    "    for k in range(inicio, fim):\n",
    "        if top_left >= len(left):\n",
    "            lista[k] = right[top_right]\n",
    "            top_right = top_right + 1\n",
    "        elif top_right >= len(right):\n",
    "            lista[k] = left[top_left]\n",
    "            top_left = top_left + 1\n",
    "        elif left[top_left] < right[top_right]:\n",
    "            lista[k] = left[top_left]\n",
    "            top_left = top_left + 1\n",
    "        else:\n",
    "            lista[k] = right[top_right]\n",
    "            top_right = top_right + 1\n",
    "    return lista\n",
    "\n",
    "\"\"\"\n",
    "#Doesn't work\n",
    "\n",
    "def merge_sort(arr):\n",
    "    if len(arr)<=1:\n",
    "        return arr\n",
    "    else:\n",
    "        meio = len(arr)//2\n",
    "        l=merge_sort(arr[:meio])\n",
    "        r= merge_sort(arr[meio:])\n",
    "        return merge(arr,0,meio, len(arr))\n",
    "\"\"\"\n",
    "            \n",
    "    \n",
    "def mergeSort(lista, inicio=0, fim=None):\n",
    "    if fim == None:\n",
    "        fim = len(lista)\n",
    "    if (fim - inicio > 1):\n",
    "        meio = (fim + inicio)//2\n",
    "        mergeSort(lista, inicio, meio)\n",
    "        mergeSort(lista, meio, fim)\n",
    "        return merge(lista, inicio, meio, fim)\n",
    "        \n",
    "arr =random.sample(range(100,1000), 15)\n",
    "print(merge(arr))\n",
    "print(mergeSort(arr),\"\\n\")\n",
    "\n",
    "rand_arr = random.sample(range(1,100), 35)\n",
    "print(mergeSort(rand_arr))  \n",
    "print(merge(rand_arr))"
   ]
  },
  {
   "cell_type": "markdown",
   "id": "2c4a4a8f",
   "metadata": {},
   "source": [
    "## Quick Sort"
   ]
  },
  {
   "cell_type": "code",
   "execution_count": 17,
   "id": "57f2f8d4",
   "metadata": {},
   "outputs": [
    {
     "name": "stdout",
     "output_type": "stream",
     "text": [
      "[2, 3, 5, 10]\n",
      "[8, 9, 10, 12, 14, 21, 25, 26, 28, 29, 33, 36, 41, 42, 43, 45, 46, 48, 57, 58, 62, 65, 69, 72, 75, 76, 77, 84, 85, 86, 88, 90, 96, 97, 99]\n",
      "[8, 9, 10, 12, 14, 21, 25, 26, 28, 29, 33, 36, 41, 42, 43, 45, 46, 48, 57, 58, 62, 65, 69, 72, 75, 76, 77, 84, 85, 86, 88, 90, 96, 97, 99]\n",
      "------------------------------------------------------------------------------------------\n",
      "[186, 205, 226, 242, 332, 336, 430, 446, 447, 478, 531, 582, 639, 715, 763, 851, 872, 874, 889, 982]\n"
     ]
    }
   ],
   "source": [
    "#Quick Sort\n",
    "def quick_sort(arr, inicio=0, fim=None):\n",
    "    if fim==None:\n",
    "        fim = len(arr)-1\n",
    "    if inicio<fim:\n",
    "        p = partition(arr, inicio, fim) #Pivot\n",
    "        quick_sort(arr,inicio, p-1) #menores que o pivot\n",
    "        quick_sort(arr, p+1, fim) #maiores que o pivot\n",
    "    return arr\n",
    "    \n",
    "def partition(lista, inicio=0, fim=None):\n",
    "    if fim==None:\n",
    "        fim = len(arr)-1\n",
    "    pivot = lista[fim]\n",
    "    i=inicio\n",
    "    for j in range(inicio, fim):\n",
    "        if lista[j]<=pivot:\n",
    "            lista[i], lista[j] = lista[j], lista[i]\n",
    "            i+=1\n",
    "    lista[i], lista[fim] = lista[fim], lista[i]\n",
    "    return i\n",
    "\n",
    "\n",
    "\"Quicksort\"\n",
    "\"Sua notacao Big O depende do pivot escolhido\"\n",
    "\"No pior dos casos= O(n*n)\"\n",
    "\"No caso medio = O(n log2 (n))\"\n",
    "def quicksort(array):\n",
    "    if len(array) < 2: \n",
    "        return array   #retorna arrays vazios e com elementos menores que um\n",
    "    else:\n",
    "        pivo = array[0] #primeiro elemento do array\n",
    "        menores = [i for i in array[1:] if i <= pivo] #cria array(desordenado) com elementos menores que o pivot \n",
    "        maiores = [i for i in array[1:] if i > pivo] #cria array(desordenado) com elementos maiores que o pivot \n",
    "        \"chama a funcao recursivamente para os menores que o pivot(ordenando o subarray) + pivot + chama a funcao recursivamente para os maiores que o pivot(ordenando o subarray)\"\n",
    "        return quicksort(menores) + [pivo] + quicksort(maiores)\n",
    "\n",
    "print(quicksort([10, 5, 2, 3]))\n",
    "rand_arr = random.sample(range(1,100), 35)\n",
    "print(quicksort(rand_arr));\n",
    "print(quick_sort(rand_arr)); \n",
    "print(30*\"---\");\n",
    "rand_arr = random.sample(range(100,1000), 20)\n",
    "print(quick_sort(rand_arr));"
   ]
  }
 ],
 "metadata": {
  "kernelspec": {
   "display_name": "Python 3 (ipykernel)",
   "language": "python",
   "name": "python3"
  },
  "language_info": {
   "codemirror_mode": {
    "name": "ipython",
    "version": 3
   },
   "file_extension": ".py",
   "mimetype": "text/x-python",
   "name": "python",
   "nbconvert_exporter": "python",
   "pygments_lexer": "ipython3",
   "version": "3.9.7"
  }
 },
 "nbformat": 4,
 "nbformat_minor": 5
}
