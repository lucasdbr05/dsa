{
 "cells": [
  {
   "cell_type": "markdown",
   "id": "3ce760c9",
   "metadata": {},
   "source": [
    "# Binary Search\n"
   ]
  },
  {
   "cell_type": "code",
   "execution_count": 7,
   "id": "2367d695",
   "metadata": {},
   "outputs": [
    {
     "ename": "SyntaxError",
     "evalue": "invalid syntax (Temp/ipykernel_108336/1216855435.py, line 3)",
     "output_type": "error",
     "traceback": [
      "\u001b[1;36m  File \u001b[1;32m\"C:\\Users\\lucas\\AppData\\Local\\Temp/ipykernel_108336/1216855435.py\"\u001b[1;36m, line \u001b[1;32m3\u001b[0m\n\u001b[1;33m    if r==None:;\u001b[0m\n\u001b[1;37m               ^\u001b[0m\n\u001b[1;31mSyntaxError\u001b[0m\u001b[1;31m:\u001b[0m invalid syntax\n"
     ]
    }
   ],
   "source": [
    "#0(LOG n)\n",
    "def binary_search(arr, item, l=0, r=None):\n",
    "    if r==None:\n",
    "        r = len(arr)-1\n",
    "    if l<=r:\n",
    "        m= (l+r)//2\n",
    "        if arr[m]==item:\n",
    "            return m\n",
    "        if item < arr[m]:\n",
    "            return binary_search(arr, item, l, m-1)\n",
    "        else:\n",
    "            return binary_search(arr, item, m+1, r)\n",
    "    return None\n",
    "arr = [1,2,3,4,5,6,7,8,9,10,11,12,12,13]\n",
    "print(f\"Index : {binary_search(arr, 5)}\")\n",
    "print(f\"Index : {binary_search([], 5)}\")"
   ]
  }
 ],
 "metadata": {
  "kernelspec": {
   "display_name": "Python 3 (ipykernel)",
   "language": "python",
   "name": "python3"
  },
  "language_info": {
   "codemirror_mode": {
    "name": "ipython",
    "version": 3
   },
   "file_extension": ".py",
   "mimetype": "text/x-python",
   "name": "python",
   "nbconvert_exporter": "python",
   "pygments_lexer": "ipython3",
   "version": "3.9.7"
  }
 },
 "nbformat": 4,
 "nbformat_minor": 5
}
