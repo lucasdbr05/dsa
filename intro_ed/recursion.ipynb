{
 "cells": [
  {
   "cell_type": "markdown",
   "id": "e716c699",
   "metadata": {},
   "source": [
    "# Recursion\n",
    "\n",
    "In computer science Recursion is a technique for solving problems where the solution to a particular problem depends on the solution to a smaller instance of the same problem.\n",
    "\n",
    "Algorithmically\n",
    "\n",
    "We can think that Recursion is a way to design solutions to problems by divide and conquer or decrease and conquer\n",
    "Reduce a problem to simpler versions of the same problem\n",
    "Semantically\n",
    "\n",
    "A programming technique where a function calls itself\n",
    "Goal is to NOT have infinite recursion\n",
    "Must have 1 or more base cases that are easy to solve\n",
    "Recursion works really well with recursive structures like tress and graphs\n",
    "\n",
    "Pros\t\n",
    "- Bridges the gap between elegance and complexity\n",
    "- Reduces the need for complex loops and auxiliary data sctructures\n",
    "- Can reduce time complexity easily with memoization\t\n",
    "\n",
    "Cons\n",
    " - Slowness due CPU overhead \n",
    " - Can lead to out of memory erros \n",
    " - Can be unnecessarily complex if poorly constructed \n",
    " "
   ]
  },
  {
   "cell_type": "code",
   "execution_count": 1,
   "id": "f831d146",
   "metadata": {},
   "outputs": [
    {
     "data": {
      "text/plain": [
       "1267650600228229401496703205376"
      ]
     },
     "execution_count": 1,
     "metadata": {},
     "output_type": "execute_result"
    }
   ],
   "source": [
    "#Implementation\n",
    "def power2(n):\n",
    "    if n <= 0:\n",
    "        return 1\n",
    "    else:\n",
    "        return 2 * power2(n - 1)\n",
    "\n",
    "power2(100)"
   ]
  },
  {
   "cell_type": "code",
   "execution_count": 2,
   "id": "00947c05",
   "metadata": {},
   "outputs": [
    {
     "data": {
      "text/plain": [
       "55"
      ]
     },
     "execution_count": 2,
     "metadata": {},
     "output_type": "execute_result"
    }
   ],
   "source": [
    "def sum_array(array):\n",
    "    \n",
    "    if len(array) == 1:\n",
    "        return array[0]\n",
    "    \n",
    "    return array[0] + sum_array(array[1:])\n",
    "arr = [1, 2, 3, 4, 5, 6, 7, 8 , 9, 10]\n",
    "sum_array(arr)"
   ]
  },
  {
   "cell_type": "code",
   "execution_count": 5,
   "id": "5480295c",
   "metadata": {},
   "outputs": [
    {
     "data": {
      "text/plain": [
       "3628800"
      ]
     },
     "execution_count": 5,
     "metadata": {},
     "output_type": "execute_result"
    }
   ],
   "source": [
    "def factorial(n):\n",
    "    if n<=1:\n",
    "        return 1\n",
    "    else:\n",
    "        return n*factorial(n-1)\n",
    "factorial(10)"
   ]
  },
  {
   "cell_type": "code",
   "execution_count": 9,
   "id": "2f0d7868",
   "metadata": {},
   "outputs": [
    {
     "name": "stdout",
     "output_type": "stream",
     "text": [
      "The 10 terms from Fibonacci sequence are:\n",
      "55\n"
     ]
    }
   ],
   "source": [
    "def fibonacci(n):\n",
    "    if n<=1:\n",
    "        return n\n",
    "    else:\n",
    "        return fibonacci(n-1)+ fibonacci(n-2)\n",
    "\n",
    "n_terms = 10\n",
    "if n_terms <= 0:\n",
    "    print('Invalid number, please enter a positive interger')\n",
    "else:\n",
    "    print('The ' + str(n_terms) + ' terms from Fibonacci sequence are:')\n",
    "    print( fibonacci(n_terms) )"
   ]
  }
 ],
 "metadata": {
  "kernelspec": {
   "display_name": "Python 3 (ipykernel)",
   "language": "python",
   "name": "python3"
  },
  "language_info": {
   "codemirror_mode": {
    "name": "ipython",
    "version": 3
   },
   "file_extension": ".py",
   "mimetype": "text/x-python",
   "name": "python",
   "nbconvert_exporter": "python",
   "pygments_lexer": "ipython3",
   "version": "3.9.7"
  }
 },
 "nbformat": 4,
 "nbformat_minor": 5
}
