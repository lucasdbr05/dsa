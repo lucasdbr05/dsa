{
 "cells": [
  {
   "cell_type": "markdown",
   "id": "00a943f7",
   "metadata": {},
   "source": [
    "# Queue\n",
    "In computer science, a queue is a particular kind of abstract data type or collection in which the entities in the collection are kept in order and the principle (or only) operations on the collection are the addition of entities to the rear terminal position, known as enqueue, and removal of entities from the front terminal position, known as dequeue. This makes the queue a First-In-First-Out (FIFO) data structure. In a FIFO data structure, the first element added to the queue will be the first one to be removed. This is equivalent to the requirement that once a new element is added, all elements that were added before have to be removed before the new element can be removed. Often a peek or front operation is also entered, returning the value of the front element without dequeuing it. A queue is an example of a linear data structure, or more abstractly a sequential collection."
   ]
  },
  {
   "cell_type": "markdown",
   "id": "7c4f368a",
   "metadata": {},
   "source": [
    "Operations associated with queue are:\n",
    "\n",
    "Enqueue: Adds an item to the queue. If the queue is full, then it is said to be an Overflow condition\n",
    "\n",
    "Dequeue: Removes an item from the queue. The items are popped in the same order in which they are pushed. If the queue is empty, then it is said to be an Underflow condition \n",
    "\n",
    "Front: Get the front item from queue \n",
    "\n",
    "Rear: Get the last item from queue  "
   ]
  },
  {
   "cell_type": "code",
   "execution_count": null,
   "id": "eb2e0a99",
   "metadata": {},
   "outputs": [],
   "source": [
    "#Queue implementation\n",
    "class Queue:\n",
    "    def __init__(self):\n",
    "        self.storage = []\n",
    "        \n",
    "    def size(self):\n",
    "        return len(self.storage)\n",
    "    \n",
    "    def enqueue(self, item):\n",
    "        self.storage.insert(0,item)\n",
    "    \n",
    "    def dequeue(self):\n",
    "        if q.size()==0:\n",
    "            return None\n",
    "        return self.storage.pop()\n",
    "    \n",
    "\n",
    "q = Queue()\n",
    "q.enqueue(1)\n",
    "q.enqueue(2)\n",
    "q.enqueue(3)\n",
    "print(q.storage)\n",
    "# Test size\n",
    "print (\"Pass\" if (q.size() == 3) else \"Fail\")\n",
    "\n",
    "# Test dequeue\n",
    "print (\"Pass\" if (q.dequeue() == 1) else \"Fail\")\n",
    "# Test enqueue\n",
    "q.enqueue(4)\n",
    "print (\"Pass\" if (q.dequeue() == 2) else \"Fail\")\n",
    "print (\"Pass\" if (q.dequeue() == 3) else \"Fail\")\n",
    "print (\"Pass\" if (q.dequeue() == 4) else \"Fail\")\n",
    "q.enqueue(5)\n",
    "print(q.storage)\n",
    "print (\"Pass\" if (q.size() == 1) else \"Fail\")\n"
   ]
  },
  {
   "cell_type": "markdown",
   "id": "1be136af",
   "metadata": {},
   "source": [
    "# Implementation using queue.Queue\n",
    "Queue is built-in module of Python which is used to implement a queue.queue.Queue(maxsize) initializes a variable to a maximum size of maxsize. A maxsize of zero ‘0’ means a infinite queue. This Queue follows FIFO rule. There are various functions available in this module:\n",
    "\n",
    "maxsize – Number of items allowed in the queue.\n",
    "\n",
    "empty() – Return True if the queue is empty, False otherwise.\n",
    "\n",
    "full() – Return True if there are maxsize items in the queue. If the queue was initialized with maxsize=0 (the default), then full() never returns True.\n",
    "\n",
    "get() – Remove and return an item from the queue. If queue is empty, wait until an item is available.\n",
    "get_nowait() – Return an item if one is immediately available, else raise QueueEmpty.\n",
    "\n",
    "put(item) – Put an item into the queue. If the queue is full, wait until a free slot is available before adding the item.\n",
    "\n",
    "put_nowait(item) – Put an item into the queue without blocking.\n",
    "\n",
    "qsize() – Return the number of items in the queue. If no free slot is immediately available, raise QueueFull."
   ]
  },
  {
   "cell_type": "code",
   "execution_count": 14,
   "id": "15e9f7ca",
   "metadata": {},
   "outputs": [
    {
     "name": "stdout",
     "output_type": "stream",
     "text": [
      "0\n",
      "a\n",
      "False\n"
     ]
    }
   ],
   "source": [
    "# Python program to \n",
    "# demonstrate implementation of \n",
    "# queue using queue module \n",
    "from queue import Queue \n",
    "  \n",
    "# Initializing a queue \n",
    "q = Queue(maxsize = 3) \n",
    "# qsize() give the maxsize  of the queue\n",
    "print(q.qsize())\n",
    "\n",
    "# Adding of element to queue \n",
    "q.put('a') \n",
    "q.put('b') \n",
    "q.put('c') \n",
    "\n",
    "\n",
    "# Removing element from queue \n",
    "print(q.get())\n",
    "\n",
    "# Return Boolean for Empty Queue  \n",
    "print(q.empty())"
   ]
  },
  {
   "cell_type": "markdown",
   "id": "68c985a4",
   "metadata": {},
   "source": [
    "### Queue using stack"
   ]
  },
  {
   "cell_type": "code",
   "execution_count": 12,
   "id": "19b1ecfc",
   "metadata": {},
   "outputs": [
    {
     "name": "stdout",
     "output_type": "stream",
     "text": [
      "[137, 132, 130]\n",
      "Pass\n",
      "Pass\n",
      "Pass\n",
      "Pass\n",
      "Pass\n",
      "Pass\n"
     ]
    }
   ],
   "source": [
    "# Here is our Stack Class\n",
    "\n",
    "class Stack:\n",
    "    def __init__(self):\n",
    "        self.items = []\n",
    "    \n",
    "    def size(self):\n",
    "        return len(self.items)\n",
    "    \n",
    "    def push(self, item):\n",
    "        self.items.append(item)\n",
    "\n",
    "    def pop(self):\n",
    "        if self.size()==0:\n",
    "            return None\n",
    "        else:\n",
    "            return self.items.pop()\n",
    "class Queue:\n",
    "    def __init__(self):\n",
    "        self.instorage = Stack()\n",
    "        self.outstorage = Stack()\n",
    "        \n",
    "    def size(self):\n",
    "         return self.outstorage.size() + self.instorage.size()\n",
    "        \n",
    "    def enqueue(self,item):\n",
    "        self.instorage.push(item)\n",
    "        \n",
    "    def dequeue(self):\n",
    "        if not self.outstorage.items:\n",
    "            while self.instorage.items:\n",
    "                self.outstorage.push(self.instorage.pop())\n",
    "        return self.outstorage.pop()\n",
    "    \n",
    "        \n",
    "q = []\n",
    "q.insert(0,130)\n",
    "q.insert(0,132)\n",
    "q.insert(0,137)\n",
    "print(q)\n",
    "# Setup\n",
    "q = Queue()\n",
    "q.enqueue(1)\n",
    "q.enqueue(2)\n",
    "q.enqueue(3)\n",
    "\n",
    "# Test size\n",
    "print (\"Pass\" if (q.size() == 3) else \"Fail\")\n",
    "\n",
    "# Test dequeue\n",
    "print (\"Pass\" if (q.dequeue() == 1) else \"Fail\")\n",
    "\n",
    "# Test enqueue\n",
    "q.enqueue(4)\n",
    "print (\"Pass\" if (q.dequeue() == 2) else \"Fail\")\n",
    "print (\"Pass\" if (q.dequeue() == 3) else \"Fail\")\n",
    "print (\"Pass\" if (q.dequeue() == 4) else \"Fail\")\n",
    "q.enqueue(5)\n",
    "print (\"Pass\" if (q.size() == 1) else \"Fail\") "
   ]
  }
 ],
 "metadata": {
  "kernelspec": {
   "display_name": "Python 3 (ipykernel)",
   "language": "python",
   "name": "python3"
  },
  "language_info": {
   "codemirror_mode": {
    "name": "ipython",
    "version": 3
   },
   "file_extension": ".py",
   "mimetype": "text/x-python",
   "name": "python",
   "nbconvert_exporter": "python",
   "pygments_lexer": "ipython3",
   "version": "3.9.7"
  }
 },
 "nbformat": 4,
 "nbformat_minor": 5
}
