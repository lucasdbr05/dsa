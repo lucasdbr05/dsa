{
 "cells": [
  {
   "cell_type": "markdown",
   "metadata": {},
   "source": [
    "# BIG O"
   ]
  },
  {
   "cell_type": "code",
   "execution_count": 5,
   "metadata": {},
   "outputs": [
    {
     "data": {
      "image/png": "[encoded data removed]",
      "text/plain": [
       "<Figure size 432x288 with 1 Axes>"
      ]
     },
     "metadata": {
      "needs_background": "light"
     },
     "output_type": "display_data"
    }
   ],
   "source": [
    "# Comparison computacional complexity\n",
    "import matplotlib.pyplot as plt\n",
    "from scipy.special import gamma\n",
    "import math\n",
    "import numpy as np\n",
    "\n",
    "n = np.linspace(1,101,100)\n",
    "O1 = gamma(n)\n",
    "O2 = 2**n\n",
    "O3 = n**2\n",
    "O4 = n*np.log(n) / np.log(2)\n",
    "O5 = n\n",
    "O6 = np.sqrt(n)\n",
    "O7 = np.log(n) / np.log(2)\n",
    "plt.plot(n, O1, '--k', label='n!') \n",
    "plt.plot(n, O2, '--r', label='2^n')  \n",
    "plt.plot(n, O3, '--g', label='n^2') \n",
    "plt.plot(n, O4, 'y', label='nlog(n)') \n",
    "plt.plot(n, O5, 'c', label='n') \n",
    "plt.plot(n, O6, '--m', label='sqrt(n)') \n",
    "plt.plot(n, O7, 'b', label='log(n)') \n",
    "axes = plt.gca()\n",
    "axes.set(xlim=(0, 100), ylim=(0, 100))\n",
    "leg = axes.legend()\n",
    "plt.show()"
   ]
  },
  {
   "cell_type": "code",
   "execution_count": null,
   "metadata": {},
   "outputs": [],
   "source": []
  },
  {
   "cell_type": "code",
   "execution_count": 2,
   "metadata": {},
   "outputs": [
    {
     "name": "stdout",
     "output_type": "stream",
     "text": [
      "Wall time: 0 ns\n",
      "[1, 2]\n",
      "[2, 1]\n"
     ]
    }
   ],
   "source": [
    "# O(N!)\n",
    "# This is the Heap's algorithm, which is used for generating all possible permutation of n objects\n",
    "# Another example could be the Travelling Salesman Problem\n",
    "%time\n",
    "def Permutation(data, n):\n",
    "    if n == 1:\n",
    "        print(data)\n",
    "        return\n",
    "    for i in range(n):\n",
    "        Permutation(data, n - 1)\n",
    "        if n % 2 == 0:\n",
    "            data[i], data[n-1] = data[n-1], data[i]\n",
    "        else:\n",
    "            data[0], data[n-1] = data[n-1], data[0]\n",
    "data = [1, 2]\n",
    "Permutation(data,len(data))"
   ]
  },
  {
   "cell_type": "code",
   "execution_count": 3,
   "metadata": {},
   "outputs": [
    {
     "name": "stdout",
     "output_type": "stream",
     "text": [
      "Wall time: 0 ns\n",
      "832040\n"
     ]
    }
   ],
   "source": [
    "# O(2^n)\n",
    "# Recursive calculation of Fibonacci numbers\n",
    "%time\n",
    "def fibonacci(n):\n",
    "    if n <= 1:\n",
    "        return n\n",
    "    return fibonacci(n-1) + fibonacci(n-2)\n",
    "print(fibonacci(30))"
   ]
  },
  {
   "cell_type": "code",
   "execution_count": 4,
   "metadata": {},
   "outputs": [
    {
     "name": "stdout",
     "output_type": "stream",
     "text": [
      "Wall time: 0 ns\n",
      "Items: 1, 1\n",
      "Items: 1, 2\n",
      "Items: 1, 3\n",
      "Items: 1, 4\n",
      "Items: 2, 1\n",
      "Items: 2, 2\n",
      "Items: 2, 3\n",
      "Items: 2, 4\n",
      "Items: 3, 1\n",
      "Items: 3, 2\n",
      "Items: 3, 3\n",
      "Items: 3, 4\n",
      "Items: 4, 1\n",
      "Items: 4, 2\n",
      "Items: 4, 3\n",
      "Items: 4, 4\n"
     ]
    }
   ],
   "source": [
    "# O(N^2)\n",
    "# Print pair of numbers in the data\n",
    "%time\n",
    "def Print_Pair(some_list):\n",
    "    for i in some_list:\n",
    "        for j in some_list:\n",
    "\n",
    "            print(\"Items: {}, {}\".format(i,j))\n",
    "Print_Pair([1, 2, 3, 4])   \n",
    "\n",
    "def tem_duplicados(lista):\n",
    "    for i in range(len(lista)-1):\n",
    "        for j in range(i+1, len(lista)):\n",
    "            if lista[i]==lista[j]:\n",
    "                return True\n",
    "    return False"
   ]
  },
  {
   "cell_type": "code",
   "execution_count": 5,
   "metadata": {},
   "outputs": [
    {
     "name": "stdout",
     "output_type": "stream",
     "text": [
      "Wall time: 0 ns\n",
      "[0, 1, 2, 3, 4, 5, 6, 7, 8, 9]\n"
     ]
    }
   ],
   "source": [
    "# O(nlog(n))\n",
    "# Mergesort algorithm\n",
    "%time\n",
    "def Merge_Sort(data):\n",
    "    if len(data) <= 1:\n",
    "        return\n",
    "    \n",
    "    mid = len(data) // 2\n",
    "    left_data = data[:mid]\n",
    "    right_data = data[mid:]\n",
    "    \n",
    "    Merge_Sort(left_data)\n",
    "    Merge_Sort(right_data)\n",
    "    \n",
    "    left_index = 0\n",
    "    right_index = 0\n",
    "    data_index = 0\n",
    "    \n",
    "    while left_index < len(left_data) and right_index < len(right_data):\n",
    "        if left_data[left_index] < right_data[right_index]:\n",
    "            data[data_index] = left_data[left_index]\n",
    "            left_index += 1\n",
    "        else:\n",
    "            data[data_index] = right_data[right_index]\n",
    "            right_index += 1\n",
    "        data_index += 1\n",
    "    \n",
    "    if left_index < len(left_data):\n",
    "        del data[data_index:]\n",
    "        data += left_data[left_index:]\n",
    "    elif right_index < len(right_data):\n",
    "        del data[data_index:]\n",
    "        data += right_data[right_index:]\n",
    "    \n",
    "data = [9, 0, 8, 6, 2, 5, 7, 3, 4, 1]\n",
    "Merge_Sort(data)\n",
    "print(data)"
   ]
  },
  {
   "cell_type": "code",
   "execution_count": 4,
   "metadata": {},
   "outputs": [
    {
     "name": "stdout",
     "output_type": "stream",
     "text": [
      "Wall time: 0 ns\n",
      "1\n",
      "2\n",
      "3\n",
      "4\n",
      "Wall time: 0 ns\n",
      "5\n"
     ]
    }
   ],
   "source": [
    "# O(n)\n",
    "# Just print some itens\n",
    "%time\n",
    "def Print_Item(data):\n",
    "    for i in data:\n",
    "        print(i)\n",
    "\n",
    "Print_Item([1, 2, 3, 4])\n",
    "\n",
    "\n",
    "# Linear search\n",
    "%time\n",
    "def Linear_Search(data, value):\n",
    "    for index in range(len(data)):\n",
    "        if value == data[index]:\n",
    "            return index\n",
    "    raise ValueError('Value not found in the list')\n",
    "data = [1, 3, 7, 4, 5, 9, 0, 11]\n",
    "print(Linear_Search(data,9))\n",
    "\n",
    "def inverter_lista(lista):\n",
    "    tam = len(lista)\n",
    "    lim = tam//2\n",
    "    for i in range(lim):\n",
    "        lista[i], lista[tam-i]=lista[tam-i], lista[i]\n",
    "        \n",
    "def inverter_lista2(lista):\n",
    "    nova_lista = []\n",
    "    tam = len(lista)\n",
    "    for i in range(tam):\n",
    "        nova_lista.append(lista[tam-i-1])\n",
    "    return nova_lista"
   ]
  },
  {
   "cell_type": "code",
   "execution_count": 7,
   "metadata": {},
   "outputs": [
    {
     "name": "stdout",
     "output_type": "stream",
     "text": [
      "Wall time: 0 ns\n",
      "1\n",
      "4\n",
      "0\n",
      "7\n"
     ]
    }
   ],
   "source": [
    "# O(log(n))\n",
    "# This algorithms with logarithmic time complexity are commonly found on binary trees\n",
    "%time\n",
    "for idx in range(0, len(data), 3):\n",
    "    print(data[idx])\n",
    "\n",
    "# Binary search\n",
    "def binary_search(data, value):\n",
    "    n = len(data)\n",
    "    left = 0\n",
    "    right = n - 1\n",
    "    while left <= right:\n",
    "        middle = (left + right) // 2\n",
    "        if value < data[middle]:\n",
    "            right = middle - 1\n",
    "        elif value > data[middle]:\n",
    "            left = middle + 1\n",
    "        else:\n",
    "            return middle\n",
    "    raise ValueError('Value is not in the list')\n",
    "\n",
    "data = [1, 2, 3, 4, 5, 6, 7, 8, 9]\n",
    "print(binary_search(data, 8))"
   ]
  },
  {
   "cell_type": "code",
   "execution_count": 8,
   "metadata": {},
   "outputs": [
    {
     "name": "stdout",
     "output_type": "stream",
     "text": [
      "Wall time: 0 ns\n",
      "1\n"
     ]
    }
   ],
   "source": [
    "# O(0n + 1)  = O(1)\n",
    "%time\n",
    "def First_Idx(data):\n",
    "    return data[0]\n",
    "    \n",
    "data = [1, 2, 3, 4, 5, 6, 7, 8, 9, 10]\n",
    "print(First_Idx(data))"
   ]
  }
 ],
 "metadata": {
  "kernelspec": {
   "display_name": "Python 3 (ipykernel)",
   "language": "python",
   "name": "python3"
  },
  "language_info": {
   "codemirror_mode": {
    "name": "ipython",
    "version": 3
   },
   "file_extension": ".py",
   "mimetype": "text/x-python",
   "name": "python",
   "nbconvert_exporter": "python",
   "pygments_lexer": "ipython3",
   "version": "3.9.7"
  }
 },
 "nbformat": 4,
 "nbformat_minor": 2
}
