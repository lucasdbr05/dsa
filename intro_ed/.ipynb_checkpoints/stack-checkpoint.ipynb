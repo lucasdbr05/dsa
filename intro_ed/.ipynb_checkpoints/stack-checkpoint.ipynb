{
 "cells": [
  {
   "cell_type": "markdown",
   "id": "50205eeb",
   "metadata": {},
   "source": [
    "# Stack\n",
    "The functions associated with stack are:\n",
    "\n",
    "empty() – Returns whether the stack is empty – Time Complexity : O(1)\n",
    "\n",
    "size() – Returns the size of the stack – Time Complexity : O(1)\n",
    "\n",
    "top() – Returns a reference to the top most element of the stack – Time Complexity :O(1)\n",
    "\n",
    "push(g) – Adds the element ‘g’ at the top of the stack – Time Complexity : O(1)\n",
    "\n",
    "pop() – Deletes the top most element of the stack – Time Complexity : O(1)\n",
    "\n",
    "Implementation using list\n",
    "Python’s buil-in data structure list can be used as a stack. Instead of push(), append() is used to add elements to the top of stack while pop() removes the element in LIFO order.\n",
    "\n",
    "Unfortunately, list has a few shortcomings. The biggest issue is that it can run into speed issue as it grows. The items in list are stored next to each other in memory, if the stack grows bigger than the block of memory that currently hold it, then Python needs to do some memory allocations. This can lead to some append() calls taking much longer than other ones."
   ]
  },
  {
   "cell_type": "code",
   "execution_count": 6,
   "id": "7b68005a",
   "metadata": {},
   "outputs": [
    {
     "name": "stdout",
     "output_type": "stream",
     "text": [
      "['Web Page 1', 'Web Page 2', 'Web Page 3', 'Web Page 4'] Web Page 4\n",
      "['Web Page 1', 'Web Page 2', 'Web Page 3']\n",
      "['Web Page 1', 'Web Page 2']\n",
      "['Web Page 1']\n",
      "Pass\n",
      "Pass\n",
      "[]\n"
     ]
    }
   ],
   "source": [
    "# Implement a stack \n",
    "\"\"\"\n",
    "push - adds an item to the top of the stack\n",
    "pop  - removes an item from the top of the stack (and returns the value of that item)\n",
    "size - returns the size of the stack\n",
    "\"\"\"\n",
    "\n",
    "class Stack:\n",
    "    def __init__(self):\n",
    "        self.items = []\n",
    "        \n",
    "    def push(self, item):\n",
    "        self.items.append(item)\n",
    "    \n",
    "    def size(self):\n",
    "        return len(self.items)\n",
    "    \n",
    "    def pop(self):\n",
    "        if self.size() ==0:\n",
    "            return None\n",
    "        else:\n",
    "            return self.items.pop()\n",
    "    \n",
    "    def peek(self):\n",
    "        if self.size() != 0:\n",
    "            return self.items[-1]\n",
    "        return\n",
    "\n",
    "\n",
    "MyStack = Stack()\n",
    "\n",
    "MyStack.push(\"Web Page 1\")\n",
    "MyStack.push(\"Web Page 2\")\n",
    "MyStack.push(\"Web Page 3\")\n",
    "MyStack.push(\"Web Page 4\")\n",
    "\n",
    "print(MyStack.items, MyStack.peek())\n",
    "\n",
    "MyStack.pop()\n",
    "print(MyStack.items)\n",
    "\n",
    "MyStack.pop()\n",
    "print(MyStack.items)\n",
    "\n",
    "MyStack.pop()\n",
    "print(MyStack.items)\n",
    "\n",
    "print(\"Pass\" if (MyStack.items[0] == 'Web Page 1') else \"Fail\")\n",
    "\n",
    "MyStack.pop()\n",
    "\n",
    "print(\"Pass\" if (MyStack.pop() == None) else \"Fail\")\n",
    "print(MyStack.items)\n"
   ]
  },
  {
   "cell_type": "markdown",
   "id": "cbf22fad",
   "metadata": {},
   "source": [
    "# Implemenation using queue module\n",
    "Queue module also has a LIFO Queue, which is basically a Stack. Data is inserted into Queue using put() function and get() takes data out from the Queue.\n",
    "\n",
    "There are various functions available in this module:\n",
    "\n",
    "maxsize – Number of items allowed in the queue. \n",
    "\n",
    "empty() – Return True if the queue is empty, False otherwise. \n",
    "\n",
    "full() – Return True if there are maxsize items in the queue. If the queue was initialized with \n",
    "maxsize=0 (the default), then full() never returns True. \n",
    "\n",
    "get() – Remove and return an item from the queue. If queue is empty, wait until an item is available. \n",
    "\n",
    "get_nowait() – Return an item if one is immediately available, else raise QueueEmpty. \n",
    "\n",
    "put(item) – Put an item into the queue. If the queue is full, wait until a free slot is available     before adding the item.\n",
    "\n",
    "put_nowait(item) – Put an item into the queue without blocking.\n",
    "\n",
    "qsize() – Return the number of items in the queue. If no free slot is immediately available, raise QueueFull."
   ]
  },
  {
   "cell_type": "code",
   "execution_count": 8,
   "id": "5351d3f3",
   "metadata": {},
   "outputs": [
    {
     "name": "stdout",
     "output_type": "stream",
     "text": [
      "Full:  True\n",
      "Size:  3\n"
     ]
    }
   ],
   "source": [
    "# Python program to  \n",
    "# demonstrate stack implementation \n",
    "# using queue module   \n",
    "from queue import LifoQueue \n",
    "  \n",
    "# Initializing a stack \n",
    "stack = LifoQueue(maxsize = 3) \n",
    "\n",
    "# put() function to push \n",
    "# element in the stack \n",
    "stack.put('a') \n",
    "stack.put('b') \n",
    "stack.put('c') \n",
    "\n",
    "print(\"Full: \", stack.full())  \n",
    "print(\"Size: \", stack.qsize()) "
   ]
  },
  {
   "cell_type": "code",
   "execution_count": 9,
   "id": "f5b1b042",
   "metadata": {},
   "outputs": [
    {
     "data": {
      "text/plain": [
       "'c'"
      ]
     },
     "execution_count": 9,
     "metadata": {},
     "output_type": "execute_result"
    }
   ],
   "source": [
    "# get() fucntion to pop \n",
    "# element from stack in  \n",
    "# LIFO order \n",
    "stack.get()"
   ]
  }
 ],
 "metadata": {
  "kernelspec": {
   "display_name": "Python 3 (ipykernel)",
   "language": "python",
   "name": "python3"
  },
  "language_info": {
   "codemirror_mode": {
    "name": "ipython",
    "version": 3
   },
   "file_extension": ".py",
   "mimetype": "text/x-python",
   "name": "python",
   "nbconvert_exporter": "python",
   "pygments_lexer": "ipython3",
   "version": "3.9.7"
  }
 },
 "nbformat": 4,
 "nbformat_minor": 5
}
