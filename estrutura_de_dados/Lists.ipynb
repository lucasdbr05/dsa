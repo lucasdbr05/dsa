{
 "cells": [
  {
   "cell_type": "code",
   "execution_count": 1,
   "id": "03dbca2e",
   "metadata": {},
   "outputs": [],
   "source": [
    "import random"
   ]
  },
  {
   "cell_type": "markdown",
   "id": "7df54397",
   "metadata": {},
   "source": [
    "# List\n",
    "(linear em alocação sequencial)\n"
   ]
  },
  {
   "cell_type": "markdown",
   "id": "8621fe8a",
   "metadata": {},
   "source": [
    "#### Complexidade:\n",
    " - Busca por indice: o(1)\n",
    " -Inserção/Remoção: O(N)"
   ]
  },
  {
   "cell_type": "code",
   "execution_count": 5,
   "id": "a6a41026",
   "metadata": {},
   "outputs": [
    {
     "name": "stdout",
     "output_type": "stream",
     "text": [
      "[13, 14, 10, 6, 7, 4, 16, 8, 18, 0, 3, 17, 9, 12, 1, 11, 2, 5, 19, 15]\n",
      "Index: 2\n"
     ]
    }
   ],
   "source": [
    "#Busca Linear (O(N))\n",
    "def busca(lista, elem):\n",
    "    for i, num in enumerate(lista):\n",
    "        if num==elem:\n",
    "            return i\n",
    "    return None\n",
    "\n",
    "lista = random.sample(range(0,20),20)\n",
    "print(lista)\n",
    "print(f\"Index: {busca(lista, 10)}\")"
   ]
  }
 ],
 "metadata": {
  "kernelspec": {
   "display_name": "Python 3 (ipykernel)",
   "language": "python",
   "name": "python3"
  },
  "language_info": {
   "codemirror_mode": {
    "name": "ipython",
    "version": 3
   },
   "file_extension": ".py",
   "mimetype": "text/x-python",
   "name": "python",
   "nbconvert_exporter": "python",
   "pygments_lexer": "ipython3",
   "version": "3.9.7"
  }
 },
 "nbformat": 4,
 "nbformat_minor": 5
}
