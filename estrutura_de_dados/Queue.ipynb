{
 "cells": [
  {
   "cell_type": "markdown",
   "id": "a42d169c",
   "metadata": {},
   "source": [
    "# Queue\n"
   ]
  },
  {
   "cell_type": "code",
   "execution_count": 1,
   "id": "510a1625",
   "metadata": {},
   "outputs": [],
   "source": [
    "class Node:\n",
    "    def __init__(self, data):\n",
    "        self.data = data\n",
    "        self.next = None\n",
    "        \n",
    "class Queue:\n",
    "    def __init__(self):\n",
    "        self._size = 0\n",
    "        self.first = None\n",
    "        self.last = None\n",
    "        \n",
    "    def push(self, item): \n",
    "        node = Node(item)\n",
    "        if self.last is None:\n",
    "            self.last = node\n",
    "        else:\n",
    "            self.last.next = node\n",
    "            self.last = node\n",
    "        if self.first is None:\n",
    "            self.first = node\n",
    "        self._size +=1\n",
    "        \n",
    "    \n",
    "        \n",
    "    def pop(self): \n",
    "        if self.first is not None:\n",
    "            item = self.first.data\n",
    "            self.first = self.first.next\n",
    "            self._size -= 1\n",
    "            return item\n",
    "        raise IndexError('the queue is empty')\n",
    "        \n",
    "    \n",
    "    def peek(self): \n",
    "        if self.last is not None:\n",
    "            return self.first.data\n",
    "        raise IndexError('the queue is empty')\n",
    "        \n",
    "    def  __len__(self): \n",
    "        return self._size\n",
    "    \n",
    "    def to_list(self):\n",
    "        pointer = self.first\n",
    "        lista = []\n",
    "        while pointer:\n",
    "            lista.append(pointer.data)\n",
    "            pointer = pointer.next\n",
    "        return lista\n",
    "    \n",
    "    def __repr__(self):\n",
    "        if self._size:\n",
    "            r = \"\"\n",
    "            pointer = self.first\n",
    "            while pointer:\n",
    "                r = r + str(pointer.data) + \"  \"\n",
    "                pointer = pointer.next\n",
    "            return r\n",
    "        return \"Empty Queue\"\n",
    "    \n",
    "    def __str__(self):\n",
    "        return self.__repr__()\n",
    "        "
   ]
  },
  {
   "cell_type": "code",
   "execution_count": 6,
   "id": "8a40385e",
   "metadata": {},
   "outputs": [
    {
     "name": "stdout",
     "output_type": "stream",
     "text": [
      "Empty Queue\n",
      "5  10  15  20  25  \n",
      "[5, 10, 15, 20, 25]\n",
      "First: 10\n",
      "10  15  20  25  \n",
      "[10, 15, 20, 25]\n",
      "4\n"
     ]
    }
   ],
   "source": [
    "fila = Queue()\n",
    "\n",
    "print(fila)\n",
    "fila.push(5); fila.push(10); fila.push(15); fila.push(20); fila.push(25);\n",
    "print(fila); print(fila.to_list())\n",
    "fila.pop()\n",
    "print(f'First: {fila.peek()}')\n",
    "print(fila); print(fila.to_list()); print(len(fila))"
   ]
  }
 ],
 "metadata": {
  "kernelspec": {
   "display_name": "Python 3 (ipykernel)",
   "language": "python",
   "name": "python3"
  },
  "language_info": {
   "codemirror_mode": {
    "name": "ipython",
    "version": 3
   },
   "file_extension": ".py",
   "mimetype": "text/x-python",
   "name": "python",
   "nbconvert_exporter": "python",
   "pygments_lexer": "ipython3",
   "version": "3.9.7"
  }
 },
 "nbformat": 4,
 "nbformat_minor": 5
}
