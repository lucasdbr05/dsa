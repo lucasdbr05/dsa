{
 "cells": [
  {
   "cell_type": "markdown",
   "id": "dee31284",
   "metadata": {},
   "source": [
    "# Linked Lists"
   ]
  },
  {
   "cell_type": "code",
   "execution_count": 6,
   "id": "8092b186",
   "metadata": {},
   "outputs": [],
   "source": [
    "class Node:\n",
    "    def __init__(self, data):\n",
    "        self.data = data\n",
    "        self.next = None\n",
    "        \n",
    "class LinkedList:\n",
    "    def __init__(self):\n",
    "        self.head = None\n",
    "        self._size = 0\n",
    "        \n",
    "    def  append(self, elem): #O(N)\n",
    "        if self.head:\n",
    "            #inserção quando lista possui elementos\n",
    "            pointer = self.head\n",
    "            while pointer.next:\n",
    "                pointer = pointer.next\n",
    "            pointer.next = Node(elem)  \n",
    "        else:\n",
    "            #inserção em lista vazia\n",
    "            self.head = Node(elem)\n",
    "        self._size +=1\n",
    "        \n",
    "    def  __len__(self): O(1)\n",
    "        return self._size\n",
    "    \n",
    "    def __getitem__(self, index): #O(N)\n",
    "        pointer = self.head\n",
    "        for i in range(index):\n",
    "            if pointer:\n",
    "                pointer = pointer.next\n",
    "            else:\n",
    "                raise IndexError(\"list index out of range\")\n",
    "        if pointer:\n",
    "            return pointer.data\n",
    "        else:\n",
    "            raise IndexError(\"list index out of range\")\n",
    "\n",
    "        \n",
    "    def __setitem__(self, index, elem): #O(N)\n",
    "        pointer = self.head\n",
    "        for i in range(index):\n",
    "            if pointer:\n",
    "                pointer = pointer.next\n",
    "            else:\n",
    "                raise IndexError(\"list index out of range\")\n",
    "        if pointer:\n",
    "            pointer.data = elem\n",
    "        else:\n",
    "            raise IndexError(\"list index out of range\")\n",
    "            \n",
    "    def index(self, item): O(N)\n",
    "        pointer = self.head\n",
    "        index = 0\n",
    "        while pointer:\n",
    "            if pointer.data == item:\n",
    "                return index\n",
    "            pointer = pointer.next\n",
    "            index += 1\n",
    "        raise ValueError(f\"{item} is not in list\")"
   ]
  },
  {
   "cell_type": "code",
   "execution_count": 11,
   "id": "f828f9b1",
   "metadata": {},
   "outputs": [
    {
     "name": "stdout",
     "output_type": "stream",
     "text": [
      "30\n",
      "20\n",
      "1\n"
     ]
    }
   ],
   "source": [
    "lista =  LinkedList()\n",
    "\n",
    "lista.append(10); lista.append(30);\n",
    "print(lista[1])\n",
    "lista[1] = 20 ; print(lista[1]); print(lista.index(20));"
   ]
  }
 ],
 "metadata": {
  "kernelspec": {
   "display_name": "Python 3 (ipykernel)",
   "language": "python",
   "name": "python3"
  },
  "language_info": {
   "codemirror_mode": {
    "name": "ipython",
    "version": 3
   },
   "file_extension": ".py",
   "mimetype": "text/x-python",
   "name": "python",
   "nbconvert_exporter": "python",
   "pygments_lexer": "ipython3",
   "version": "3.9.7"
  }
 },
 "nbformat": 4,
 "nbformat_minor": 5
}
