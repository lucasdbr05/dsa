{
 "cells": [
  {
   "cell_type": "markdown",
   "id": "68159845",
   "metadata": {},
   "source": [
    "# Trees"
   ]
  },
  {
   "cell_type": "code",
   "execution_count": 17,
   "id": "cd1ae326",
   "metadata": {},
   "outputs": [],
   "source": [
    "import random"
   ]
  },
  {
   "cell_type": "markdown",
   "id": "86c5282f",
   "metadata": {},
   "source": [
    "## Binary Tree"
   ]
  },
  {
   "cell_type": "code",
   "execution_count": 39,
   "id": "a044efff",
   "metadata": {},
   "outputs": [],
   "source": [
    "class Node:\n",
    "    def __init__(self, data):\n",
    "        self.data = data\n",
    "        self.left = None\n",
    "        self.right = None\n",
    "        \n",
    "    def __str__(self):\n",
    "        return str(self.data)\n",
    "\n",
    "class BinaryTree:\n",
    "    \n",
    "    def __init__(self, data=None, node=None):\n",
    "        if node:\n",
    "            self.root = node\n",
    "        elif data:\n",
    "            node = Node(data)\n",
    "            self.root = node\n",
    "        else:\n",
    "            self.root = None\n",
    "\n",
    "    def inorder_traversal(self, node=None): #Simetric Traversal\n",
    "        if node is None:\n",
    "            node = self.root\n",
    "        if node.left:\n",
    "            print('(', end=\"\")\n",
    "            self.inorder_traversal(node.left)\n",
    "        print(node, end=\"\")\n",
    "        if node.right:\n",
    "            self.inorder_traversal(node.right)\n",
    "            print(')', end=\"\")\n",
    "            \n",
    "    def posorder_traversal(self, node=None):\n",
    "        if node is None:\n",
    "            node = self.root\n",
    "        if node.left:\n",
    "            self.posorder_traversal(node.left)\n",
    "        if node.right:\n",
    "            self.posorder_traversal(node.right)\n",
    "        print(node, end=\" \")\n",
    "        \n",
    "    def height(self, node=None):\n",
    "        if node is None:\n",
    "            node = self.root\n",
    "        hleft = 0\n",
    "        hright = 0\n",
    "        if node.left:\n",
    "            hleft = self.height(node.left)\n",
    "        if node.right:\n",
    "            hright = self.height(node.right)\n",
    "        if hright > hleft:\n",
    "            return hright + 1\n",
    "        return hleft + 1\n",
    "    \n",
    "    def simetric_traversal(self, node=None): #Simetric Traversal\n",
    "        if node is None:\n",
    "            node = self.root\n",
    "        if node.left:\n",
    "            self.simetric_traversal(node.left)\n",
    "        print(node, end=\" \")\n",
    "        if node.right:\n",
    "            self.simetric_traversal(node.right)\n",
    "            \n"
   ]
  },
  {
   "cell_type": "markdown",
   "id": "f8b43c78",
   "metadata": {},
   "source": [
    "# Search Binary Tree"
   ]
  },
  {
   "cell_type": "code",
   "execution_count": 42,
   "id": "4253bf08",
   "metadata": {},
   "outputs": [],
   "source": [
    "class BinarySearchTree(BinaryTree):\n",
    "    def insert(self, value):\n",
    "        parent = None\n",
    "        x = self.root\n",
    "        while(x):\n",
    "            parent = x\n",
    "            if value < x.data:\n",
    "                x = x.left\n",
    "            else:\n",
    "                x = x.right\n",
    "        if parent is None:\n",
    "            self.root = Node(value)\n",
    "        elif value < parent.data:\n",
    "            parent.left = Node(value)\n",
    "        else:\n",
    "            parent.right = Node(value)\n",
    "            \n",
    "    def search(self,value):\n",
    "        return self._search(value, self.root)\n",
    "            \n",
    "    def _search(self, value, node=0):\n",
    "        if node ==0:\n",
    "            node = self.root\n",
    "        if node is None or node.data == value:\n",
    "            return BinarySeachTree(node)\n",
    "        if value < node.data:\n",
    "            return self._search(value, node.left)\n",
    "        return self._search(value, node.right)"
   ]
  },
  {
   "cell_type": "code",
   "execution_count": 11,
   "id": "6c303234",
   "metadata": {},
   "outputs": [
    {
     "name": "stdout",
     "output_type": "stream",
     "text": [
      "10\n",
      "20\n",
      "30\n"
     ]
    }
   ],
   "source": [
    "tree = BinaryTree(10)\n",
    "tree.root.left = Node(20)\n",
    "tree.root.right = Node(30)\n",
    "print(tree.root);print(tree.root.left);print(tree.root.right)"
   ]
  },
  {
   "cell_type": "code",
   "execution_count": 15,
   "id": "07746688",
   "metadata": {},
   "outputs": [
    {
     "name": "stdout",
     "output_type": "stream",
     "text": [
      "(a+(b*((c/d)-e)))\n",
      "Altura: 5\n"
     ]
    }
   ],
   "source": [
    "#Percurso em ordem simetrica\n",
    "tree = BinaryTree(None)\n",
    "n1 = Node('a')\n",
    "n2 = Node('+')\n",
    "n3 = Node('*')\n",
    "n4 = Node('b')\n",
    "n5 = Node('-')\n",
    "n6 = Node('/')\n",
    "n7 = Node('c')\n",
    "n8 = Node('d')\n",
    "n9 = Node('e')\n",
    "\n",
    "n6.left = n7\n",
    "n6.right = n8\n",
    "n5.left = n6\n",
    "n5.right = n9\n",
    "n3.left = n4\n",
    "n3.right = n5\n",
    "n2.left = n1\n",
    "n2.right = n3\n",
    "\n",
    "tree.root = n2\n",
    "tree.inorder_traversal()\n",
    "print(f'\\nAltura: {tree.height()}')"
   ]
  },
  {
   "cell_type": "code",
   "execution_count": 16,
   "id": "3e95db14",
   "metadata": {},
   "outputs": [
    {
     "name": "stdout",
     "output_type": "stream",
     "text": [
      "I N S C R E V A 5 3 \n",
      "Altura: 5\n",
      "\n",
      "Altura R: 3\n"
     ]
    }
   ],
   "source": [
    "tree = BinaryTree(None)\n",
    "n1 = Node('I')\n",
    "n2 = Node('N')\n",
    "n3 = Node('S')\n",
    "n4 = Node('C')\n",
    "n5 = Node('R')\n",
    "n6 = Node('E')\n",
    "n7 = Node('V')\n",
    "n8 = Node('A')\n",
    "n9 = Node('5')\n",
    "n0 = Node('3')\n",
    "\n",
    "n0.left = n6\n",
    "n0.right = n9\n",
    "n6.left = n1\n",
    "n6.right = n5\n",
    "n5.left = n2\n",
    "n5.right = n4\n",
    "n4.right = n3\n",
    "n9.left = n8\n",
    "n8.right = n7\n",
    "\n",
    "tree.root = n0\n",
    "\n",
    "tree.posorder_traversal()\n",
    "print(f'\\nAltura: {tree.height()}')\n",
    "print(f'\\nAltura R: {tree.height(n5)}')\n"
   ]
  },
  {
   "cell_type": "code",
   "execution_count": 43,
   "id": "b0c92cb7",
   "metadata": {},
   "outputs": [
    {
     "name": "stdout",
     "output_type": "stream",
     "text": [
      "1 2 4 5 6 7 9 13 14 15 18 19 21 25 26 27 30 32 34 37 40 41 42 43 45 47 48 53 54 59 64 68 70 71 75 77 78 86 87 92 95 97 "
     ]
    }
   ],
   "source": [
    "values = random.sample(range(1, 100), 42)\n",
    "tree = BinarySearchTree(0)\n",
    "for v in values:\n",
    "    tree.insert(v)\n",
    "tree.simetric_traversal()"
   ]
  }
 ],
 "metadata": {
  "kernelspec": {
   "display_name": "Python 3 (ipykernel)",
   "language": "python",
   "name": "python3"
  },
  "language_info": {
   "codemirror_mode": {
    "name": "ipython",
    "version": 3
   },
   "file_extension": ".py",
   "mimetype": "text/x-python",
   "name": "python",
   "nbconvert_exporter": "python",
   "pygments_lexer": "ipython3",
   "version": "3.9.7"
  }
 },
 "nbformat": 4,
 "nbformat_minor": 5
}
