{
 "cells": [
  {
   "cell_type": "markdown",
   "id": "6efaba05",
   "metadata": {},
   "source": [
    "# Stack"
   ]
  },
  {
   "cell_type": "code",
   "execution_count": 6,
   "id": "45cc7ca9",
   "metadata": {},
   "outputs": [],
   "source": [
    "class Node:\n",
    "    def __init__(self, data):\n",
    "        self.data = data\n",
    "        self.next = None\n",
    "        \n",
    "class Stack:\n",
    "    def __init__(self):\n",
    "        self.top = None\n",
    "        self._size = 0\n",
    "        \n",
    "    def push(self, item): #O(1)\n",
    "        node = Node(item)\n",
    "        node.next = self.top\n",
    "        self.top = node\n",
    "        self._size += 1\n",
    "        \n",
    "    def pop(self): #O(1)\n",
    "        if self._size > 0:\n",
    "            node = self.top\n",
    "            self.top = self.top.next\n",
    "            self._size -=1\n",
    "            return node.data\n",
    "        raise IndexError('the stack is empty')\n",
    "    \n",
    "    def peek(self): #O(1)\n",
    "        if self._size >0:\n",
    "            return self.top.data\n",
    "        raise IndexError('the stack is empty')\n",
    "        \n",
    "        \n",
    "    def  __len__(self): #O(1)\n",
    "        return self._size\n",
    "    \n",
    "    def to_list(self):\n",
    "        pointer = self.top\n",
    "        lista = []\n",
    "        while pointer:\n",
    "            lista.append(pointer.data)\n",
    "            pointer = pointer.next\n",
    "        return lista\n",
    "    \n",
    "    def __repr__(self):\n",
    "        r = \"\"\n",
    "        pointer = self.top\n",
    "        while pointer:\n",
    "            r= r + str(pointer.data) + \"// \"\n",
    "            pointer = pointer.next\n",
    "        return r\n",
    "    \n",
    "    def __str__(self):\n",
    "        return self.__repr__()\n",
    "        "
   ]
  },
  {
   "cell_type": "code",
   "execution_count": 8,
   "id": "75974130",
   "metadata": {},
   "outputs": [
    {
     "name": "stdout",
     "output_type": "stream",
     "text": [
      "0\n",
      "\n",
      "15// 12// 9// 6// 3// \n",
      "[15, 12, 9, 6, 3]\n",
      "12\n",
      "12// 9// 6// 3// \n",
      "[12, 9, 6, 3]\n"
     ]
    }
   ],
   "source": [
    "pilha = Stack()\n",
    "\n",
    "print(len(pilha))\n",
    "print(pilha)\n",
    "pilha.push(3); pilha.push(6); pilha.push(9); pilha.push(12); pilha.push(15);\n",
    "print(pilha); print(pilha.to_list())\n",
    "pilha.pop()\n",
    "print(pilha.peek())\n",
    "print(pilha); print(pilha.to_list())"
   ]
  }
 ],
 "metadata": {
  "kernelspec": {
   "display_name": "Python 3 (ipykernel)",
   "language": "python",
   "name": "python3"
  },
  "language_info": {
   "codemirror_mode": {
    "name": "ipython",
    "version": 3
   },
   "file_extension": ".py",
   "mimetype": "text/x-python",
   "name": "python",
   "nbconvert_exporter": "python",
   "pygments_lexer": "ipython3",
   "version": "3.9.7"
  }
 },
 "nbformat": 4,
 "nbformat_minor": 5
}
