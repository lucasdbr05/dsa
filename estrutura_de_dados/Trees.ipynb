{
 "cells": [
  {
   "cell_type": "markdown",
   "id": "68159845",
   "metadata": {},
   "source": [
    "# Trees"
   ]
  },
  {
   "cell_type": "code",
   "execution_count": 80,
   "id": "3a3122aa",
   "metadata": {},
   "outputs": [],
   "source": [
    "import random\n",
    "from collections import deque"
   ]
  },
  {
   "cell_type": "markdown",
   "id": "86c5282f",
   "metadata": {},
   "source": [
    "## Binary Tree"
   ]
  },
  {
   "cell_type": "code",
   "execution_count": 81,
   "id": "4e313cdb",
   "metadata": {},
   "outputs": [],
   "source": [
    "class Node:\n",
    "    def __init__(self, data):\n",
    "        self.data = data\n",
    "        self.left = None\n",
    "        self.right = None\n",
    "        \n",
    "    def __str__(self):\n",
    "        return str(self.data)\n"
   ]
  },
  {
   "cell_type": "code",
   "execution_count": 82,
   "id": "a044efff",
   "metadata": {},
   "outputs": [],
   "source": [
    "\n",
    "class BinaryTree:\n",
    "    \n",
    "    def __init__(self, data=None, node=None):\n",
    "        if node:\n",
    "            self.root = node\n",
    "        elif data:\n",
    "            node = Node(data)\n",
    "            self.root = node\n",
    "        else:\n",
    "            self.root = None\n",
    "\n",
    "    def inorder_traversal(self, node=None): #Simetric Traversal\n",
    "        if node is None:\n",
    "            node = self.root\n",
    "        if node.left:\n",
    "            print('(', end=\"\")\n",
    "            self.inorder_traversal(node.left)\n",
    "        print(node, end=\"\")\n",
    "        if node.right:\n",
    "            self.inorder_traversal(node.right)\n",
    "            print(')', end=\"\")\n",
    "            \n",
    "    def posorder_traversal(self, node=None):\n",
    "        if node is None:\n",
    "            node = self.root\n",
    "        if node.left:\n",
    "            self.posorder_traversal(node.left)\n",
    "        if node.right:\n",
    "            self.posorder_traversal(node.right)\n",
    "        print(node, end=\" \")\n",
    "        \n",
    "    def height(self, node=None):\n",
    "        if node is None:\n",
    "            node = self.root\n",
    "        hleft = 0\n",
    "        hright = 0\n",
    "        if node.left:\n",
    "            hleft = self.height(node.left)\n",
    "        if node.right:\n",
    "            hright = self.height(node.right)\n",
    "        if hright > hleft:\n",
    "            return hright + 1\n",
    "        return hleft + 1\n",
    "    \n",
    "    def simetric_traversal(self, node=None): #Simetric Traversal for ordering\n",
    "        if node is None:\n",
    "            node = self.root\n",
    "        if node.left:\n",
    "            self.simetric_traversal(node.left)\n",
    "        print(node, end=\" \")\n",
    "        if node.right:\n",
    "            self.simetric_traversal(node.right)\n",
    "            \n",
    "    def levelorder_traversal(self, node=None):\n",
    "        if node is None:\n",
    "            node = self.root\n",
    "        \n",
    "        queue = deque()\n",
    "        queue.append(node)\n",
    "        while len(queue):\n",
    "            node = queue.pop()\n",
    "            if node.left :\n",
    "                queue.appendleft(node.left)\n",
    "            if node.right :\n",
    "                queue.appendleft(node.right)\n",
    "            print(node.data, end=' ')\n",
    "            "
   ]
  },
  {
   "cell_type": "markdown",
   "id": "918943b4",
   "metadata": {},
   "source": [
    "## Search Binary Tree"
   ]
  },
  {
   "cell_type": "code",
   "execution_count": 83,
   "id": "fe6d225d",
   "metadata": {},
   "outputs": [],
   "source": [
    "class BinarySearchTree(BinaryTree):\n",
    "    def insert(self, value):\n",
    "        parent = None\n",
    "        x = self.root\n",
    "        while(x):\n",
    "            parent = x\n",
    "            if value < x.data:\n",
    "                x = x.left\n",
    "            else:\n",
    "                x = x.right\n",
    "        if parent is None:\n",
    "            self.root = Node(value)\n",
    "        elif value < parent.data:\n",
    "            parent.left = Node(value)\n",
    "        else:\n",
    "            parent.right = Node(value)\n",
    "            \n",
    "    def search(self,value):\n",
    "        return self._search(value, self.root)\n",
    "            \n",
    "    def _search(self, value, node):\n",
    "        if node is None :\n",
    "            return node\n",
    "        if node.data == value:\n",
    "            return BinarySearchTree(node)\n",
    "        if value < node.data:\n",
    "            return self._search(value, node.left)\n",
    "        return self._search(value, node.right)\n",
    "    \n",
    "    def minimun(self, node= None):\n",
    "        if node is None:\n",
    "            node = self.root\n",
    "        while node.left:\n",
    "            node = node.left\n",
    "        return node.data\n",
    "    \n",
    "    def maximun(self, node= None):\n",
    "        if node is None:\n",
    "            node = self.root\n",
    "        while node.right:\n",
    "            node = node.right\n",
    "        return node.data\n",
    "    \n",
    "    def remove(self, value, node=None): #O(H)\n",
    "        if node == None:\n",
    "            node = self.root\n",
    "        if node is None:\n",
    "            return None\n",
    "        \n",
    "        if value < node.data:\n",
    "            node.left = self.remove(value, node.left)\n",
    "        elif value > node.data:\n",
    "            node.right = self.remove(value, node.right)\n",
    "        else:\n",
    "#             if node.left is None and node.right is None:\n",
    "#                 return None\n",
    "            if node.left is None:\n",
    "                return node.right\n",
    "            elif node.right is None:\n",
    "                return node.left\n",
    "            else:\n",
    "                substitute = self.minimun(node.right)\n",
    "                node.data = substitute\n",
    "                node.right = slef.removeove(substitute, node.right)\n",
    "        return node"
   ]
  },
  {
   "cell_type": "markdown",
   "id": "07595475",
   "metadata": {},
   "source": [
    "- Arvores Balanceadas: árvores cuja a altura é proporcianal ao log de sua altura (arvores avl e red-black-trees)\n",
    "# Arvore AVL"
   ]
  },
  {
   "cell_type": "code",
   "execution_count": null,
   "id": "401ff6ea",
   "metadata": {},
   "outputs": [],
   "source": []
  },
  {
   "cell_type": "markdown",
   "id": "d1cd5152",
   "metadata": {},
   "source": [
    "# ---------------------------\n",
    "(tests)"
   ]
  },
  {
   "cell_type": "code",
   "execution_count": 84,
   "id": "6c303234",
   "metadata": {},
   "outputs": [
    {
     "name": "stdout",
     "output_type": "stream",
     "text": [
      "10\n",
      "20\n",
      "30\n"
     ]
    }
   ],
   "source": [
    "tree = BinaryTree(10)\n",
    "tree.root.left = Node(20)\n",
    "tree.root.right = Node(30)\n",
    "print(tree.root);print(tree.root.left);print(tree.root.right)"
   ]
  },
  {
   "cell_type": "code",
   "execution_count": 85,
   "id": "07746688",
   "metadata": {},
   "outputs": [
    {
     "name": "stdout",
     "output_type": "stream",
     "text": [
      "(a+(b*((c/d)-e)))\n",
      "Altura: 5\n"
     ]
    }
   ],
   "source": [
    "#Percurso em ordem simetrica\n",
    "tree = BinaryTree()\n",
    "n1 = Node('a')\n",
    "n2 = Node('+')\n",
    "n3 = Node('*')\n",
    "n4 = Node('b')\n",
    "n5 = Node('-')\n",
    "n6 = Node('/')\n",
    "n7 = Node('c')\n",
    "n8 = Node('d')\n",
    "n9 = Node('e')\n",
    "\n",
    "n6.left = n7\n",
    "n6.right = n8\n",
    "n5.left = n6\n",
    "n5.right = n9\n",
    "n3.left = n4\n",
    "n3.right = n5\n",
    "n2.left = n1\n",
    "n2.right = n3\n",
    "\n",
    "tree.root = n2\n",
    "tree.inorder_traversal()\n",
    "print(f'\\nAltura: {tree.height()}')"
   ]
  },
  {
   "cell_type": "code",
   "execution_count": 86,
   "id": "15814f40",
   "metadata": {},
   "outputs": [
    {
     "name": "stdout",
     "output_type": "stream",
     "text": [
      "I N S C R E V A 5 3 \n",
      "Altura: 5\n",
      "\n",
      "Altura R: 3\n"
     ]
    }
   ],
   "source": [
    "#Pos order search\n",
    "tree = BinaryTree()\n",
    "n1 = Node('I')\n",
    "n2 = Node('N')\n",
    "n3 = Node('S')\n",
    "n4 = Node('C')\n",
    "n5 = Node('R')\n",
    "n6 = Node('E')\n",
    "n7 = Node('V')\n",
    "n8 = Node('A')\n",
    "n9 = Node('5')\n",
    "n0 = Node('3')\n",
    "\n",
    "n0.left = n6\n",
    "n0.right = n9\n",
    "n6.left = n1\n",
    "n6.right = n5\n",
    "n5.left = n2\n",
    "n5.right = n4\n",
    "n4.right = n3\n",
    "n9.left = n8\n",
    "n8.right = n7\n",
    "\n",
    "tree.root = n0\n",
    "\n",
    "tree.posorder_traversal()\n",
    "print(f'\\nAltura: {tree.height()}')\n",
    "print(f'\\nAltura R: {tree.height(n5)}')\n"
   ]
  },
  {
   "cell_type": "code",
   "execution_count": 87,
   "id": "03d18fc4",
   "metadata": {},
   "outputs": [
    {
     "name": "stdout",
     "output_type": "stream",
     "text": [
      "[66, 11, 92, 15, 1, 7, 31, 19, 38, 20, 86, 2, 50, 89, 40, 67, 95, 68, 18, 80, 82, 8, 52, 39, 64, 10, 42, 4, 56, 41, 63, 93, 65, 85, 17, 70, 6, 43, 59, 83, 24, 47]\n",
      "1 2 4 6 7 8 10 11 15 17 18 19 20 24 31 38 39 40 41 42 43 47 50 52 56 59 63 64 65 66 67 68 70 80 82 83 85 86 89 92 93 95 \n",
      "\n",
      "66 11 92 1 15 86 95 7 31 67 89 93 2 8 19 38 68 4 10 18 20 50 80 6 17 24 40 52 70 82 39 42 64 85 41 43 56 65 83 47 63 59 \n",
      "Altura: 11\n",
      "\n",
      "\n",
      "Max: 95\n",
      "Min: 1\n",
      "\n",
      "50  found\n"
     ]
    }
   ],
   "source": [
    "#Binary search tree\n",
    "values = random.sample(range(1, 100), 42)\n",
    "item = 50 \n",
    "\n",
    "tree = BinarySearchTree()\n",
    "for v in values:\n",
    "    tree.insert(v)\n",
    "print(values)\n",
    "\n",
    "tree.simetric_traversal()\n",
    "print('\\n')\n",
    "tree.levelorder_traversal()\n",
    "print(f'\\nAltura: {tree.height()}')\n",
    "print('\\n')\n",
    "r = tree.search(item)\n",
    "print(f'Max: {tree.maximun()}\\nMin: {tree.minimun()}\\n')\n",
    "r = tree.search(item)\n",
    "if r is None:\n",
    "    print(item, \" not found\")\n",
    "else:\n",
    "    print(r.root.data, ' found')"
   ]
  },
  {
   "cell_type": "code",
   "execution_count": 91,
   "id": "a36a46d4",
   "metadata": {},
   "outputs": [
    {
     "name": "stdout",
     "output_type": "stream",
     "text": [
      "61 43 89 16 51 66 100 11 32 55 79 90 77 82 \n",
      "\n",
      "11 16 32 43 51 55 61 66 77 79 82 89 90 100 \n",
      "\n",
      "Max: 100\n",
      "Min: 11\n",
      "\n",
      "-----REMOVE----\n",
      "61 43 89 16 51 66 100 32 55 79 90 77 82 \n",
      "\n",
      "16 32 43 51 55 61 66 77 79 82 89 90 100 \n",
      "\n",
      "61 43 89 16 51 79 100 32 55 77 82 90 \n",
      "\n",
      "16 32 43 51 55 61 77 79 82 89 90 100 \n",
      "\n"
     ]
    }
   ],
   "source": [
    "values = [61, 89, 66, 43, 51, 16, 55, 11, 79, 77, 82, 32, 100, 90]\n",
    "tree = BinarySearchTree()\n",
    "for v in values:\n",
    "    tree.insert(v)\n",
    "tree.levelorder_traversal()\n",
    "print('\\n')\n",
    "tree.simetric_traversal()\n",
    "print('\\n')\n",
    "print(f'Max: {tree.maximun()}\\nMin: {tree.minimun()}\\n')\n",
    "\n",
    "print('-----REMOVE----')\n",
    "tree.remove(11)\n",
    "tree.levelorder_traversal()\n",
    "print('\\n')\n",
    "tree.simetric_traversal()\n",
    "print('\\n')\n",
    "tree.remove(66)\n",
    "tree.levelorder_traversal()\n",
    "print('\\n')\n",
    "tree.simetric_traversal()\n",
    "print('\\n')"
   ]
  }
 ],
 "metadata": {
  "kernelspec": {
   "display_name": "Python 3 (ipykernel)",
   "language": "python",
   "name": "python3"
  },
  "language_info": {
   "codemirror_mode": {
    "name": "ipython",
    "version": 3
   },
   "file_extension": ".py",
   "mimetype": "text/x-python",
   "name": "python",
   "nbconvert_exporter": "python",
   "pygments_lexer": "ipython3",
   "version": "3.9.7"
  }
 },
 "nbformat": 4,
 "nbformat_minor": 5
}
